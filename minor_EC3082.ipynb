{
 "cells": [
  {
   "cell_type": "markdown",
   "id": "28774910",
   "metadata": {},
   "source": [
    "# Importing required modules/frameworks"
   ]
  },
  {
   "cell_type": "code",
   "execution_count": 1,
   "id": "23b2e2b9",
   "metadata": {},
   "outputs": [],
   "source": [
    "#importinglibraries\n",
    "import pandas as pd\n",
    "from matplotlib import pyplot as plt\n",
    "import numpy as np\n",
    "%matplotlib inline"
   ]
  },
  {
   "cell_type": "markdown",
   "id": "25083733",
   "metadata": {},
   "source": [
    "# Reading the dataset"
   ]
  },
  {
   "cell_type": "code",
   "execution_count": 2,
   "id": "28133c5a",
   "metadata": {},
   "outputs": [
    {
     "data": {
      "text/html": [
       "<div>\n",
       "<style scoped>\n",
       "    .dataframe tbody tr th:only-of-type {\n",
       "        vertical-align: middle;\n",
       "    }\n",
       "\n",
       "    .dataframe tbody tr th {\n",
       "        vertical-align: top;\n",
       "    }\n",
       "\n",
       "    .dataframe thead th {\n",
       "        text-align: right;\n",
       "    }\n",
       "</style>\n",
       "<table border=\"1\" class=\"dataframe\">\n",
       "  <thead>\n",
       "    <tr style=\"text-align: right;\">\n",
       "      <th></th>\n",
       "      <th>Unnamed: 0</th>\n",
       "      <th>roll_no</th>\n",
       "      <th>student_name</th>\n",
       "      <th>sdur_CC</th>\n",
       "      <th>sdur_IFS</th>\n",
       "      <th>sdur_VLSI</th>\n",
       "      <th>sdur_DE1</th>\n",
       "      <th>sdur_DE2</th>\n",
       "      <th>sdur_DE3</th>\n",
       "      <th>sdur_OE1</th>\n",
       "      <th>pref_CC</th>\n",
       "      <th>pref_IFS</th>\n",
       "      <th>pref_VLSI</th>\n",
       "      <th>pref_DE1</th>\n",
       "      <th>pref_DE2</th>\n",
       "      <th>pref_DE3</th>\n",
       "      <th>pref_OE1</th>\n",
       "    </tr>\n",
       "  </thead>\n",
       "  <tbody>\n",
       "    <tr>\n",
       "      <th>0</th>\n",
       "      <td>NaN</td>\n",
       "      <td>1904005.0</td>\n",
       "      <td>ADITY  DUTTA</td>\n",
       "      <td>22.0</td>\n",
       "      <td>10.0</td>\n",
       "      <td>20.0</td>\n",
       "      <td>62.0</td>\n",
       "      <td>47.0</td>\n",
       "      <td>10.0</td>\n",
       "      <td>10.0</td>\n",
       "      <td>hardcopy</td>\n",
       "      <td>hardcopy</td>\n",
       "      <td>hardcopy</td>\n",
       "      <td>hardcopy</td>\n",
       "      <td>hardcopy</td>\n",
       "      <td>hardcopy</td>\n",
       "      <td>hardcopy</td>\n",
       "    </tr>\n",
       "    <tr>\n",
       "      <th>1</th>\n",
       "      <td>NaN</td>\n",
       "      <td>1904010.0</td>\n",
       "      <td>ANNWESHA  SARKAR</td>\n",
       "      <td>25.0</td>\n",
       "      <td>6.0</td>\n",
       "      <td>25.0</td>\n",
       "      <td>61.0</td>\n",
       "      <td>89.0</td>\n",
       "      <td>25.0</td>\n",
       "      <td>30.0</td>\n",
       "      <td>softcopy</td>\n",
       "      <td>hardcopy</td>\n",
       "      <td>softcopy</td>\n",
       "      <td>hardcopy</td>\n",
       "      <td>softcopy</td>\n",
       "      <td>hardcopy</td>\n",
       "      <td>hardcopy</td>\n",
       "    </tr>\n",
       "    <tr>\n",
       "      <th>2</th>\n",
       "      <td>NaN</td>\n",
       "      <td>1904014.0</td>\n",
       "      <td>ARIJIT  CHATTERJEE</td>\n",
       "      <td>47.0</td>\n",
       "      <td>20.0</td>\n",
       "      <td>15.0</td>\n",
       "      <td>18.0</td>\n",
       "      <td>26.0</td>\n",
       "      <td>45.0</td>\n",
       "      <td>66.0</td>\n",
       "      <td>hardcopy</td>\n",
       "      <td>hardcopy</td>\n",
       "      <td>hardcopy</td>\n",
       "      <td>hardcopy</td>\n",
       "      <td>hardcopy</td>\n",
       "      <td>hardcopy</td>\n",
       "      <td>hardcopy</td>\n",
       "    </tr>\n",
       "    <tr>\n",
       "      <th>3</th>\n",
       "      <td>NaN</td>\n",
       "      <td>1904015.0</td>\n",
       "      <td>ARITRA  GANGULY</td>\n",
       "      <td>52.0</td>\n",
       "      <td>8.0</td>\n",
       "      <td>16.0</td>\n",
       "      <td>28.0</td>\n",
       "      <td>40.0</td>\n",
       "      <td>10.0</td>\n",
       "      <td>15.0</td>\n",
       "      <td>hardcopy</td>\n",
       "      <td>softcopy</td>\n",
       "      <td>softcopy</td>\n",
       "      <td>softcopy</td>\n",
       "      <td>hardcopy</td>\n",
       "      <td>hardcopy</td>\n",
       "      <td>hardcopy</td>\n",
       "    </tr>\n",
       "    <tr>\n",
       "      <th>4</th>\n",
       "      <td>NaN</td>\n",
       "      <td>1904019.0</td>\n",
       "      <td>AYUSH KUMAR</td>\n",
       "      <td>46.0</td>\n",
       "      <td>30.0</td>\n",
       "      <td>10.0</td>\n",
       "      <td>27.0</td>\n",
       "      <td>3.0</td>\n",
       "      <td>4.0</td>\n",
       "      <td>60.0</td>\n",
       "      <td>softcopy</td>\n",
       "      <td>hardcopy</td>\n",
       "      <td>hardcopy</td>\n",
       "      <td>hardcopy</td>\n",
       "      <td>hardcopy</td>\n",
       "      <td>softcopy</td>\n",
       "      <td>softcopy</td>\n",
       "    </tr>\n",
       "    <tr>\n",
       "      <th>...</th>\n",
       "      <td>...</td>\n",
       "      <td>...</td>\n",
       "      <td>...</td>\n",
       "      <td>...</td>\n",
       "      <td>...</td>\n",
       "      <td>...</td>\n",
       "      <td>...</td>\n",
       "      <td>...</td>\n",
       "      <td>...</td>\n",
       "      <td>...</td>\n",
       "      <td>...</td>\n",
       "      <td>...</td>\n",
       "      <td>...</td>\n",
       "      <td>...</td>\n",
       "      <td>...</td>\n",
       "      <td>...</td>\n",
       "      <td>...</td>\n",
       "    </tr>\n",
       "    <tr>\n",
       "      <th>356</th>\n",
       "      <td>NaN</td>\n",
       "      <td>1904235.0</td>\n",
       "      <td>SUSHMITA  DIXIT</td>\n",
       "      <td>49.0</td>\n",
       "      <td>58.0</td>\n",
       "      <td>54.0</td>\n",
       "      <td>10.0</td>\n",
       "      <td>15.0</td>\n",
       "      <td>20.0</td>\n",
       "      <td>50.0</td>\n",
       "      <td>softcopy</td>\n",
       "      <td>softcopy</td>\n",
       "      <td>hardcopy</td>\n",
       "      <td>hardcopy</td>\n",
       "      <td>hardcopy</td>\n",
       "      <td>softcopy</td>\n",
       "      <td>softcopy</td>\n",
       "    </tr>\n",
       "    <tr>\n",
       "      <th>357</th>\n",
       "      <td>NaN</td>\n",
       "      <td>1904237.0</td>\n",
       "      <td>TANYA  KUMARI</td>\n",
       "      <td>62.0</td>\n",
       "      <td>20.0</td>\n",
       "      <td>40.0</td>\n",
       "      <td>55.0</td>\n",
       "      <td>47.0</td>\n",
       "      <td>39.0</td>\n",
       "      <td>46.0</td>\n",
       "      <td>hardcopy</td>\n",
       "      <td>hardcopy</td>\n",
       "      <td>hardcopy</td>\n",
       "      <td>hardcopy</td>\n",
       "      <td>hardcopy</td>\n",
       "      <td>hardcopy</td>\n",
       "      <td>hardcopy</td>\n",
       "    </tr>\n",
       "    <tr>\n",
       "      <th>358</th>\n",
       "      <td>NaN</td>\n",
       "      <td>1904238.0</td>\n",
       "      <td>VIBHAV  SINGH</td>\n",
       "      <td>12.0</td>\n",
       "      <td>8.0</td>\n",
       "      <td>11.0</td>\n",
       "      <td>10.0</td>\n",
       "      <td>25.0</td>\n",
       "      <td>4.0</td>\n",
       "      <td>6.0</td>\n",
       "      <td>softcopy</td>\n",
       "      <td>softcopy</td>\n",
       "      <td>softcopy</td>\n",
       "      <td>softcopy</td>\n",
       "      <td>softcopy</td>\n",
       "      <td>softcopy</td>\n",
       "      <td>softcopy</td>\n",
       "    </tr>\n",
       "    <tr>\n",
       "      <th>359</th>\n",
       "      <td>NaN</td>\n",
       "      <td>1904239.0</td>\n",
       "      <td>VISHAL  KUMAR</td>\n",
       "      <td>50.0</td>\n",
       "      <td>21.0</td>\n",
       "      <td>20.0</td>\n",
       "      <td>52.0</td>\n",
       "      <td>35.0</td>\n",
       "      <td>20.0</td>\n",
       "      <td>44.0</td>\n",
       "      <td>hardcopy</td>\n",
       "      <td>hardcopy</td>\n",
       "      <td>softcopy</td>\n",
       "      <td>hardcopy</td>\n",
       "      <td>softcopy</td>\n",
       "      <td>softcopy</td>\n",
       "      <td>softcopy</td>\n",
       "    </tr>\n",
       "    <tr>\n",
       "      <th>360</th>\n",
       "      <td>NaN</td>\n",
       "      <td>1904240.0</td>\n",
       "      <td>VISWANATH  AKASH</td>\n",
       "      <td>54.0</td>\n",
       "      <td>26.0</td>\n",
       "      <td>18.0</td>\n",
       "      <td>88.0</td>\n",
       "      <td>15.0</td>\n",
       "      <td>14.0</td>\n",
       "      <td>82.0</td>\n",
       "      <td>softcopy</td>\n",
       "      <td>hardcopy</td>\n",
       "      <td>hardcopy</td>\n",
       "      <td>hardcopy</td>\n",
       "      <td>softcopy</td>\n",
       "      <td>softcopy</td>\n",
       "      <td>softcopy</td>\n",
       "    </tr>\n",
       "  </tbody>\n",
       "</table>\n",
       "<p>361 rows × 17 columns</p>\n",
       "</div>"
      ],
      "text/plain": [
       "     Unnamed: 0    roll_no        student_name  sdur_CC  sdur_IFS  sdur_VLSI  \\\n",
       "0           NaN  1904005.0        ADITY  DUTTA     22.0      10.0       20.0   \n",
       "1           NaN  1904010.0    ANNWESHA  SARKAR     25.0       6.0       25.0   \n",
       "2           NaN  1904014.0  ARIJIT  CHATTERJEE     47.0      20.0       15.0   \n",
       "3           NaN  1904015.0     ARITRA  GANGULY     52.0       8.0       16.0   \n",
       "4           NaN  1904019.0         AYUSH KUMAR     46.0      30.0       10.0   \n",
       "..          ...        ...                 ...      ...       ...        ...   \n",
       "356         NaN  1904235.0     SUSHMITA  DIXIT     49.0      58.0       54.0   \n",
       "357         NaN  1904237.0       TANYA  KUMARI     62.0      20.0       40.0   \n",
       "358         NaN  1904238.0       VIBHAV  SINGH     12.0       8.0       11.0   \n",
       "359         NaN  1904239.0       VISHAL  KUMAR     50.0      21.0       20.0   \n",
       "360         NaN  1904240.0    VISWANATH  AKASH     54.0      26.0       18.0   \n",
       "\n",
       "     sdur_DE1  sdur_DE2  sdur_DE3  sdur_OE1   pref_CC  pref_IFS pref_VLSI  \\\n",
       "0        62.0      47.0      10.0      10.0  hardcopy  hardcopy  hardcopy   \n",
       "1        61.0      89.0      25.0      30.0  softcopy  hardcopy  softcopy   \n",
       "2        18.0      26.0      45.0      66.0  hardcopy  hardcopy  hardcopy   \n",
       "3        28.0      40.0      10.0      15.0  hardcopy  softcopy  softcopy   \n",
       "4        27.0       3.0       4.0      60.0  softcopy  hardcopy  hardcopy   \n",
       "..        ...       ...       ...       ...       ...       ...       ...   \n",
       "356      10.0      15.0      20.0      50.0  softcopy  softcopy  hardcopy   \n",
       "357      55.0      47.0      39.0      46.0  hardcopy  hardcopy  hardcopy   \n",
       "358      10.0      25.0       4.0       6.0  softcopy  softcopy  softcopy   \n",
       "359      52.0      35.0      20.0      44.0  hardcopy  hardcopy  softcopy   \n",
       "360      88.0      15.0      14.0      82.0  softcopy  hardcopy  hardcopy   \n",
       "\n",
       "     pref_DE1  pref_DE2  pref_DE3  pref_OE1  \n",
       "0    hardcopy  hardcopy  hardcopy  hardcopy  \n",
       "1    hardcopy  softcopy  hardcopy  hardcopy  \n",
       "2    hardcopy  hardcopy  hardcopy  hardcopy  \n",
       "3    softcopy  hardcopy  hardcopy  hardcopy  \n",
       "4    hardcopy  hardcopy  softcopy  softcopy  \n",
       "..        ...       ...       ...       ...  \n",
       "356  hardcopy  hardcopy  softcopy  softcopy  \n",
       "357  hardcopy  hardcopy  hardcopy  hardcopy  \n",
       "358  softcopy  softcopy  softcopy  softcopy  \n",
       "359  hardcopy  softcopy  softcopy  softcopy  \n",
       "360  hardcopy  softcopy  softcopy  softcopy  \n",
       "\n",
       "[361 rows x 17 columns]"
      ]
     },
     "execution_count": 2,
     "metadata": {},
     "output_type": "execute_result"
    }
   ],
   "source": [
    "#reading the excel sheet\n",
    "df = pd.read_excel('student.xlsx')\n",
    "df"
   ]
  },
  {
   "cell_type": "code",
   "execution_count": 3,
   "id": "d86bf956",
   "metadata": {},
   "outputs": [
    {
     "data": {
      "text/plain": [
       "(361, 17)"
      ]
     },
     "execution_count": 3,
     "metadata": {},
     "output_type": "execute_result"
    }
   ],
   "source": [
    "#computing the shape\n",
    "df.shape"
   ]
  },
  {
   "cell_type": "markdown",
   "id": "964963c5",
   "metadata": {},
   "source": [
    "# Data preprocessing\n",
    "- Dropping empty rows/columns\n",
    "- Checking for duplicates"
   ]
  },
  {
   "cell_type": "code",
   "execution_count": 4,
   "id": "a0247e2b",
   "metadata": {},
   "outputs": [
    {
     "data": {
      "text/html": [
       "<div>\n",
       "<style scoped>\n",
       "    .dataframe tbody tr th:only-of-type {\n",
       "        vertical-align: middle;\n",
       "    }\n",
       "\n",
       "    .dataframe tbody tr th {\n",
       "        vertical-align: top;\n",
       "    }\n",
       "\n",
       "    .dataframe thead th {\n",
       "        text-align: right;\n",
       "    }\n",
       "</style>\n",
       "<table border=\"1\" class=\"dataframe\">\n",
       "  <thead>\n",
       "    <tr style=\"text-align: right;\">\n",
       "      <th></th>\n",
       "      <th>roll_no</th>\n",
       "      <th>student_name</th>\n",
       "      <th>sdur_CC</th>\n",
       "      <th>sdur_IFS</th>\n",
       "      <th>sdur_VLSI</th>\n",
       "      <th>sdur_DE1</th>\n",
       "      <th>sdur_DE2</th>\n",
       "      <th>sdur_DE3</th>\n",
       "      <th>sdur_OE1</th>\n",
       "      <th>pref_CC</th>\n",
       "      <th>pref_IFS</th>\n",
       "      <th>pref_VLSI</th>\n",
       "      <th>pref_DE1</th>\n",
       "      <th>pref_DE2</th>\n",
       "      <th>pref_DE3</th>\n",
       "      <th>pref_OE1</th>\n",
       "    </tr>\n",
       "  </thead>\n",
       "  <tbody>\n",
       "    <tr>\n",
       "      <th>0</th>\n",
       "      <td>1904005.0</td>\n",
       "      <td>ADITY  DUTTA</td>\n",
       "      <td>22.0</td>\n",
       "      <td>10.0</td>\n",
       "      <td>20.0</td>\n",
       "      <td>62.0</td>\n",
       "      <td>47.0</td>\n",
       "      <td>10.0</td>\n",
       "      <td>10.0</td>\n",
       "      <td>hardcopy</td>\n",
       "      <td>hardcopy</td>\n",
       "      <td>hardcopy</td>\n",
       "      <td>hardcopy</td>\n",
       "      <td>hardcopy</td>\n",
       "      <td>hardcopy</td>\n",
       "      <td>hardcopy</td>\n",
       "    </tr>\n",
       "    <tr>\n",
       "      <th>1</th>\n",
       "      <td>1904010.0</td>\n",
       "      <td>ANNWESHA  SARKAR</td>\n",
       "      <td>25.0</td>\n",
       "      <td>6.0</td>\n",
       "      <td>25.0</td>\n",
       "      <td>61.0</td>\n",
       "      <td>89.0</td>\n",
       "      <td>25.0</td>\n",
       "      <td>30.0</td>\n",
       "      <td>softcopy</td>\n",
       "      <td>hardcopy</td>\n",
       "      <td>softcopy</td>\n",
       "      <td>hardcopy</td>\n",
       "      <td>softcopy</td>\n",
       "      <td>hardcopy</td>\n",
       "      <td>hardcopy</td>\n",
       "    </tr>\n",
       "    <tr>\n",
       "      <th>2</th>\n",
       "      <td>1904014.0</td>\n",
       "      <td>ARIJIT  CHATTERJEE</td>\n",
       "      <td>47.0</td>\n",
       "      <td>20.0</td>\n",
       "      <td>15.0</td>\n",
       "      <td>18.0</td>\n",
       "      <td>26.0</td>\n",
       "      <td>45.0</td>\n",
       "      <td>66.0</td>\n",
       "      <td>hardcopy</td>\n",
       "      <td>hardcopy</td>\n",
       "      <td>hardcopy</td>\n",
       "      <td>hardcopy</td>\n",
       "      <td>hardcopy</td>\n",
       "      <td>hardcopy</td>\n",
       "      <td>hardcopy</td>\n",
       "    </tr>\n",
       "    <tr>\n",
       "      <th>3</th>\n",
       "      <td>1904015.0</td>\n",
       "      <td>ARITRA  GANGULY</td>\n",
       "      <td>52.0</td>\n",
       "      <td>8.0</td>\n",
       "      <td>16.0</td>\n",
       "      <td>28.0</td>\n",
       "      <td>40.0</td>\n",
       "      <td>10.0</td>\n",
       "      <td>15.0</td>\n",
       "      <td>hardcopy</td>\n",
       "      <td>softcopy</td>\n",
       "      <td>softcopy</td>\n",
       "      <td>softcopy</td>\n",
       "      <td>hardcopy</td>\n",
       "      <td>hardcopy</td>\n",
       "      <td>hardcopy</td>\n",
       "    </tr>\n",
       "    <tr>\n",
       "      <th>4</th>\n",
       "      <td>1904019.0</td>\n",
       "      <td>AYUSH KUMAR</td>\n",
       "      <td>46.0</td>\n",
       "      <td>30.0</td>\n",
       "      <td>10.0</td>\n",
       "      <td>27.0</td>\n",
       "      <td>3.0</td>\n",
       "      <td>4.0</td>\n",
       "      <td>60.0</td>\n",
       "      <td>softcopy</td>\n",
       "      <td>hardcopy</td>\n",
       "      <td>hardcopy</td>\n",
       "      <td>hardcopy</td>\n",
       "      <td>hardcopy</td>\n",
       "      <td>softcopy</td>\n",
       "      <td>softcopy</td>\n",
       "    </tr>\n",
       "    <tr>\n",
       "      <th>...</th>\n",
       "      <td>...</td>\n",
       "      <td>...</td>\n",
       "      <td>...</td>\n",
       "      <td>...</td>\n",
       "      <td>...</td>\n",
       "      <td>...</td>\n",
       "      <td>...</td>\n",
       "      <td>...</td>\n",
       "      <td>...</td>\n",
       "      <td>...</td>\n",
       "      <td>...</td>\n",
       "      <td>...</td>\n",
       "      <td>...</td>\n",
       "      <td>...</td>\n",
       "      <td>...</td>\n",
       "      <td>...</td>\n",
       "    </tr>\n",
       "    <tr>\n",
       "      <th>356</th>\n",
       "      <td>1904235.0</td>\n",
       "      <td>SUSHMITA  DIXIT</td>\n",
       "      <td>49.0</td>\n",
       "      <td>58.0</td>\n",
       "      <td>54.0</td>\n",
       "      <td>10.0</td>\n",
       "      <td>15.0</td>\n",
       "      <td>20.0</td>\n",
       "      <td>50.0</td>\n",
       "      <td>softcopy</td>\n",
       "      <td>softcopy</td>\n",
       "      <td>hardcopy</td>\n",
       "      <td>hardcopy</td>\n",
       "      <td>hardcopy</td>\n",
       "      <td>softcopy</td>\n",
       "      <td>softcopy</td>\n",
       "    </tr>\n",
       "    <tr>\n",
       "      <th>357</th>\n",
       "      <td>1904237.0</td>\n",
       "      <td>TANYA  KUMARI</td>\n",
       "      <td>62.0</td>\n",
       "      <td>20.0</td>\n",
       "      <td>40.0</td>\n",
       "      <td>55.0</td>\n",
       "      <td>47.0</td>\n",
       "      <td>39.0</td>\n",
       "      <td>46.0</td>\n",
       "      <td>hardcopy</td>\n",
       "      <td>hardcopy</td>\n",
       "      <td>hardcopy</td>\n",
       "      <td>hardcopy</td>\n",
       "      <td>hardcopy</td>\n",
       "      <td>hardcopy</td>\n",
       "      <td>hardcopy</td>\n",
       "    </tr>\n",
       "    <tr>\n",
       "      <th>358</th>\n",
       "      <td>1904238.0</td>\n",
       "      <td>VIBHAV  SINGH</td>\n",
       "      <td>12.0</td>\n",
       "      <td>8.0</td>\n",
       "      <td>11.0</td>\n",
       "      <td>10.0</td>\n",
       "      <td>25.0</td>\n",
       "      <td>4.0</td>\n",
       "      <td>6.0</td>\n",
       "      <td>softcopy</td>\n",
       "      <td>softcopy</td>\n",
       "      <td>softcopy</td>\n",
       "      <td>softcopy</td>\n",
       "      <td>softcopy</td>\n",
       "      <td>softcopy</td>\n",
       "      <td>softcopy</td>\n",
       "    </tr>\n",
       "    <tr>\n",
       "      <th>359</th>\n",
       "      <td>1904239.0</td>\n",
       "      <td>VISHAL  KUMAR</td>\n",
       "      <td>50.0</td>\n",
       "      <td>21.0</td>\n",
       "      <td>20.0</td>\n",
       "      <td>52.0</td>\n",
       "      <td>35.0</td>\n",
       "      <td>20.0</td>\n",
       "      <td>44.0</td>\n",
       "      <td>hardcopy</td>\n",
       "      <td>hardcopy</td>\n",
       "      <td>softcopy</td>\n",
       "      <td>hardcopy</td>\n",
       "      <td>softcopy</td>\n",
       "      <td>softcopy</td>\n",
       "      <td>softcopy</td>\n",
       "    </tr>\n",
       "    <tr>\n",
       "      <th>360</th>\n",
       "      <td>1904240.0</td>\n",
       "      <td>VISWANATH  AKASH</td>\n",
       "      <td>54.0</td>\n",
       "      <td>26.0</td>\n",
       "      <td>18.0</td>\n",
       "      <td>88.0</td>\n",
       "      <td>15.0</td>\n",
       "      <td>14.0</td>\n",
       "      <td>82.0</td>\n",
       "      <td>softcopy</td>\n",
       "      <td>hardcopy</td>\n",
       "      <td>hardcopy</td>\n",
       "      <td>hardcopy</td>\n",
       "      <td>softcopy</td>\n",
       "      <td>softcopy</td>\n",
       "      <td>softcopy</td>\n",
       "    </tr>\n",
       "  </tbody>\n",
       "</table>\n",
       "<p>361 rows × 16 columns</p>\n",
       "</div>"
      ],
      "text/plain": [
       "       roll_no        student_name  sdur_CC  sdur_IFS  sdur_VLSI  sdur_DE1  \\\n",
       "0    1904005.0        ADITY  DUTTA     22.0      10.0       20.0      62.0   \n",
       "1    1904010.0    ANNWESHA  SARKAR     25.0       6.0       25.0      61.0   \n",
       "2    1904014.0  ARIJIT  CHATTERJEE     47.0      20.0       15.0      18.0   \n",
       "3    1904015.0     ARITRA  GANGULY     52.0       8.0       16.0      28.0   \n",
       "4    1904019.0         AYUSH KUMAR     46.0      30.0       10.0      27.0   \n",
       "..         ...                 ...      ...       ...        ...       ...   \n",
       "356  1904235.0     SUSHMITA  DIXIT     49.0      58.0       54.0      10.0   \n",
       "357  1904237.0       TANYA  KUMARI     62.0      20.0       40.0      55.0   \n",
       "358  1904238.0       VIBHAV  SINGH     12.0       8.0       11.0      10.0   \n",
       "359  1904239.0       VISHAL  KUMAR     50.0      21.0       20.0      52.0   \n",
       "360  1904240.0    VISWANATH  AKASH     54.0      26.0       18.0      88.0   \n",
       "\n",
       "     sdur_DE2  sdur_DE3  sdur_OE1   pref_CC  pref_IFS pref_VLSI  pref_DE1  \\\n",
       "0        47.0      10.0      10.0  hardcopy  hardcopy  hardcopy  hardcopy   \n",
       "1        89.0      25.0      30.0  softcopy  hardcopy  softcopy  hardcopy   \n",
       "2        26.0      45.0      66.0  hardcopy  hardcopy  hardcopy  hardcopy   \n",
       "3        40.0      10.0      15.0  hardcopy  softcopy  softcopy  softcopy   \n",
       "4         3.0       4.0      60.0  softcopy  hardcopy  hardcopy  hardcopy   \n",
       "..        ...       ...       ...       ...       ...       ...       ...   \n",
       "356      15.0      20.0      50.0  softcopy  softcopy  hardcopy  hardcopy   \n",
       "357      47.0      39.0      46.0  hardcopy  hardcopy  hardcopy  hardcopy   \n",
       "358      25.0       4.0       6.0  softcopy  softcopy  softcopy  softcopy   \n",
       "359      35.0      20.0      44.0  hardcopy  hardcopy  softcopy  hardcopy   \n",
       "360      15.0      14.0      82.0  softcopy  hardcopy  hardcopy  hardcopy   \n",
       "\n",
       "     pref_DE2  pref_DE3  pref_OE1  \n",
       "0    hardcopy  hardcopy  hardcopy  \n",
       "1    softcopy  hardcopy  hardcopy  \n",
       "2    hardcopy  hardcopy  hardcopy  \n",
       "3    hardcopy  hardcopy  hardcopy  \n",
       "4    hardcopy  softcopy  softcopy  \n",
       "..        ...       ...       ...  \n",
       "356  hardcopy  softcopy  softcopy  \n",
       "357  hardcopy  hardcopy  hardcopy  \n",
       "358  softcopy  softcopy  softcopy  \n",
       "359  softcopy  softcopy  softcopy  \n",
       "360  softcopy  softcopy  softcopy  \n",
       "\n",
       "[361 rows x 16 columns]"
      ]
     },
     "execution_count": 4,
     "metadata": {},
     "output_type": "execute_result"
    }
   ],
   "source": [
    "#dropping first column of dataframe (NaN)\n",
    "df = df.iloc[: , 1:]\n",
    "df"
   ]
  },
  {
   "cell_type": "code",
   "execution_count": 5,
   "id": "fd9059ff",
   "metadata": {},
   "outputs": [
    {
     "data": {
      "text/plain": [
       "(361, 16)"
      ]
     },
     "execution_count": 5,
     "metadata": {},
     "output_type": "execute_result"
    }
   ],
   "source": [
    "#shape updates\n",
    "df.shape"
   ]
  },
  {
   "cell_type": "code",
   "execution_count": 6,
   "id": "bd4b5599",
   "metadata": {},
   "outputs": [
    {
     "data": {
      "text/html": [
       "<div>\n",
       "<style scoped>\n",
       "    .dataframe tbody tr th:only-of-type {\n",
       "        vertical-align: middle;\n",
       "    }\n",
       "\n",
       "    .dataframe tbody tr th {\n",
       "        vertical-align: top;\n",
       "    }\n",
       "\n",
       "    .dataframe thead th {\n",
       "        text-align: right;\n",
       "    }\n",
       "</style>\n",
       "<table border=\"1\" class=\"dataframe\">\n",
       "  <thead>\n",
       "    <tr style=\"text-align: right;\">\n",
       "      <th></th>\n",
       "      <th>roll_no</th>\n",
       "      <th>student_name</th>\n",
       "      <th>sdur_CC</th>\n",
       "      <th>sdur_IFS</th>\n",
       "      <th>sdur_VLSI</th>\n",
       "      <th>sdur_DE1</th>\n",
       "      <th>sdur_DE2</th>\n",
       "      <th>sdur_DE3</th>\n",
       "      <th>sdur_OE1</th>\n",
       "      <th>pref_CC</th>\n",
       "      <th>pref_IFS</th>\n",
       "      <th>pref_VLSI</th>\n",
       "      <th>pref_DE1</th>\n",
       "      <th>pref_DE2</th>\n",
       "      <th>pref_DE3</th>\n",
       "      <th>pref_OE1</th>\n",
       "    </tr>\n",
       "  </thead>\n",
       "  <tbody>\n",
       "    <tr>\n",
       "      <th>0</th>\n",
       "      <td>1904005.0</td>\n",
       "      <td>ADITY  DUTTA</td>\n",
       "      <td>22.0</td>\n",
       "      <td>10.0</td>\n",
       "      <td>20.0</td>\n",
       "      <td>62.0</td>\n",
       "      <td>47.0</td>\n",
       "      <td>10.0</td>\n",
       "      <td>10.0</td>\n",
       "      <td>hardcopy</td>\n",
       "      <td>hardcopy</td>\n",
       "      <td>hardcopy</td>\n",
       "      <td>hardcopy</td>\n",
       "      <td>hardcopy</td>\n",
       "      <td>hardcopy</td>\n",
       "      <td>hardcopy</td>\n",
       "    </tr>\n",
       "    <tr>\n",
       "      <th>1</th>\n",
       "      <td>1904010.0</td>\n",
       "      <td>ANNWESHA  SARKAR</td>\n",
       "      <td>25.0</td>\n",
       "      <td>6.0</td>\n",
       "      <td>25.0</td>\n",
       "      <td>61.0</td>\n",
       "      <td>89.0</td>\n",
       "      <td>25.0</td>\n",
       "      <td>30.0</td>\n",
       "      <td>softcopy</td>\n",
       "      <td>hardcopy</td>\n",
       "      <td>softcopy</td>\n",
       "      <td>hardcopy</td>\n",
       "      <td>softcopy</td>\n",
       "      <td>hardcopy</td>\n",
       "      <td>hardcopy</td>\n",
       "    </tr>\n",
       "    <tr>\n",
       "      <th>2</th>\n",
       "      <td>1904014.0</td>\n",
       "      <td>ARIJIT  CHATTERJEE</td>\n",
       "      <td>47.0</td>\n",
       "      <td>20.0</td>\n",
       "      <td>15.0</td>\n",
       "      <td>18.0</td>\n",
       "      <td>26.0</td>\n",
       "      <td>45.0</td>\n",
       "      <td>66.0</td>\n",
       "      <td>hardcopy</td>\n",
       "      <td>hardcopy</td>\n",
       "      <td>hardcopy</td>\n",
       "      <td>hardcopy</td>\n",
       "      <td>hardcopy</td>\n",
       "      <td>hardcopy</td>\n",
       "      <td>hardcopy</td>\n",
       "    </tr>\n",
       "    <tr>\n",
       "      <th>3</th>\n",
       "      <td>1904015.0</td>\n",
       "      <td>ARITRA  GANGULY</td>\n",
       "      <td>52.0</td>\n",
       "      <td>8.0</td>\n",
       "      <td>16.0</td>\n",
       "      <td>28.0</td>\n",
       "      <td>40.0</td>\n",
       "      <td>10.0</td>\n",
       "      <td>15.0</td>\n",
       "      <td>hardcopy</td>\n",
       "      <td>softcopy</td>\n",
       "      <td>softcopy</td>\n",
       "      <td>softcopy</td>\n",
       "      <td>hardcopy</td>\n",
       "      <td>hardcopy</td>\n",
       "      <td>hardcopy</td>\n",
       "    </tr>\n",
       "    <tr>\n",
       "      <th>4</th>\n",
       "      <td>1904019.0</td>\n",
       "      <td>AYUSH KUMAR</td>\n",
       "      <td>46.0</td>\n",
       "      <td>30.0</td>\n",
       "      <td>10.0</td>\n",
       "      <td>27.0</td>\n",
       "      <td>3.0</td>\n",
       "      <td>4.0</td>\n",
       "      <td>60.0</td>\n",
       "      <td>softcopy</td>\n",
       "      <td>hardcopy</td>\n",
       "      <td>hardcopy</td>\n",
       "      <td>hardcopy</td>\n",
       "      <td>hardcopy</td>\n",
       "      <td>softcopy</td>\n",
       "      <td>softcopy</td>\n",
       "    </tr>\n",
       "    <tr>\n",
       "      <th>...</th>\n",
       "      <td>...</td>\n",
       "      <td>...</td>\n",
       "      <td>...</td>\n",
       "      <td>...</td>\n",
       "      <td>...</td>\n",
       "      <td>...</td>\n",
       "      <td>...</td>\n",
       "      <td>...</td>\n",
       "      <td>...</td>\n",
       "      <td>...</td>\n",
       "      <td>...</td>\n",
       "      <td>...</td>\n",
       "      <td>...</td>\n",
       "      <td>...</td>\n",
       "      <td>...</td>\n",
       "      <td>...</td>\n",
       "    </tr>\n",
       "    <tr>\n",
       "      <th>356</th>\n",
       "      <td>1904235.0</td>\n",
       "      <td>SUSHMITA  DIXIT</td>\n",
       "      <td>49.0</td>\n",
       "      <td>58.0</td>\n",
       "      <td>54.0</td>\n",
       "      <td>10.0</td>\n",
       "      <td>15.0</td>\n",
       "      <td>20.0</td>\n",
       "      <td>50.0</td>\n",
       "      <td>softcopy</td>\n",
       "      <td>softcopy</td>\n",
       "      <td>hardcopy</td>\n",
       "      <td>hardcopy</td>\n",
       "      <td>hardcopy</td>\n",
       "      <td>softcopy</td>\n",
       "      <td>softcopy</td>\n",
       "    </tr>\n",
       "    <tr>\n",
       "      <th>357</th>\n",
       "      <td>1904237.0</td>\n",
       "      <td>TANYA  KUMARI</td>\n",
       "      <td>62.0</td>\n",
       "      <td>20.0</td>\n",
       "      <td>40.0</td>\n",
       "      <td>55.0</td>\n",
       "      <td>47.0</td>\n",
       "      <td>39.0</td>\n",
       "      <td>46.0</td>\n",
       "      <td>hardcopy</td>\n",
       "      <td>hardcopy</td>\n",
       "      <td>hardcopy</td>\n",
       "      <td>hardcopy</td>\n",
       "      <td>hardcopy</td>\n",
       "      <td>hardcopy</td>\n",
       "      <td>hardcopy</td>\n",
       "    </tr>\n",
       "    <tr>\n",
       "      <th>358</th>\n",
       "      <td>1904238.0</td>\n",
       "      <td>VIBHAV  SINGH</td>\n",
       "      <td>12.0</td>\n",
       "      <td>8.0</td>\n",
       "      <td>11.0</td>\n",
       "      <td>10.0</td>\n",
       "      <td>25.0</td>\n",
       "      <td>4.0</td>\n",
       "      <td>6.0</td>\n",
       "      <td>softcopy</td>\n",
       "      <td>softcopy</td>\n",
       "      <td>softcopy</td>\n",
       "      <td>softcopy</td>\n",
       "      <td>softcopy</td>\n",
       "      <td>softcopy</td>\n",
       "      <td>softcopy</td>\n",
       "    </tr>\n",
       "    <tr>\n",
       "      <th>359</th>\n",
       "      <td>1904239.0</td>\n",
       "      <td>VISHAL  KUMAR</td>\n",
       "      <td>50.0</td>\n",
       "      <td>21.0</td>\n",
       "      <td>20.0</td>\n",
       "      <td>52.0</td>\n",
       "      <td>35.0</td>\n",
       "      <td>20.0</td>\n",
       "      <td>44.0</td>\n",
       "      <td>hardcopy</td>\n",
       "      <td>hardcopy</td>\n",
       "      <td>softcopy</td>\n",
       "      <td>hardcopy</td>\n",
       "      <td>softcopy</td>\n",
       "      <td>softcopy</td>\n",
       "      <td>softcopy</td>\n",
       "    </tr>\n",
       "    <tr>\n",
       "      <th>360</th>\n",
       "      <td>1904240.0</td>\n",
       "      <td>VISWANATH  AKASH</td>\n",
       "      <td>54.0</td>\n",
       "      <td>26.0</td>\n",
       "      <td>18.0</td>\n",
       "      <td>88.0</td>\n",
       "      <td>15.0</td>\n",
       "      <td>14.0</td>\n",
       "      <td>82.0</td>\n",
       "      <td>softcopy</td>\n",
       "      <td>hardcopy</td>\n",
       "      <td>hardcopy</td>\n",
       "      <td>hardcopy</td>\n",
       "      <td>softcopy</td>\n",
       "      <td>softcopy</td>\n",
       "      <td>softcopy</td>\n",
       "    </tr>\n",
       "  </tbody>\n",
       "</table>\n",
       "<p>356 rows × 16 columns</p>\n",
       "</div>"
      ],
      "text/plain": [
       "       roll_no        student_name  sdur_CC  sdur_IFS  sdur_VLSI  sdur_DE1  \\\n",
       "0    1904005.0        ADITY  DUTTA     22.0      10.0       20.0      62.0   \n",
       "1    1904010.0    ANNWESHA  SARKAR     25.0       6.0       25.0      61.0   \n",
       "2    1904014.0  ARIJIT  CHATTERJEE     47.0      20.0       15.0      18.0   \n",
       "3    1904015.0     ARITRA  GANGULY     52.0       8.0       16.0      28.0   \n",
       "4    1904019.0         AYUSH KUMAR     46.0      30.0       10.0      27.0   \n",
       "..         ...                 ...      ...       ...        ...       ...   \n",
       "356  1904235.0     SUSHMITA  DIXIT     49.0      58.0       54.0      10.0   \n",
       "357  1904237.0       TANYA  KUMARI     62.0      20.0       40.0      55.0   \n",
       "358  1904238.0       VIBHAV  SINGH     12.0       8.0       11.0      10.0   \n",
       "359  1904239.0       VISHAL  KUMAR     50.0      21.0       20.0      52.0   \n",
       "360  1904240.0    VISWANATH  AKASH     54.0      26.0       18.0      88.0   \n",
       "\n",
       "     sdur_DE2  sdur_DE3  sdur_OE1   pref_CC  pref_IFS pref_VLSI  pref_DE1  \\\n",
       "0        47.0      10.0      10.0  hardcopy  hardcopy  hardcopy  hardcopy   \n",
       "1        89.0      25.0      30.0  softcopy  hardcopy  softcopy  hardcopy   \n",
       "2        26.0      45.0      66.0  hardcopy  hardcopy  hardcopy  hardcopy   \n",
       "3        40.0      10.0      15.0  hardcopy  softcopy  softcopy  softcopy   \n",
       "4         3.0       4.0      60.0  softcopy  hardcopy  hardcopy  hardcopy   \n",
       "..        ...       ...       ...       ...       ...       ...       ...   \n",
       "356      15.0      20.0      50.0  softcopy  softcopy  hardcopy  hardcopy   \n",
       "357      47.0      39.0      46.0  hardcopy  hardcopy  hardcopy  hardcopy   \n",
       "358      25.0       4.0       6.0  softcopy  softcopy  softcopy  softcopy   \n",
       "359      35.0      20.0      44.0  hardcopy  hardcopy  softcopy  hardcopy   \n",
       "360      15.0      14.0      82.0  softcopy  hardcopy  hardcopy  hardcopy   \n",
       "\n",
       "     pref_DE2  pref_DE3  pref_OE1  \n",
       "0    hardcopy  hardcopy  hardcopy  \n",
       "1    softcopy  hardcopy  hardcopy  \n",
       "2    hardcopy  hardcopy  hardcopy  \n",
       "3    hardcopy  hardcopy  hardcopy  \n",
       "4    hardcopy  softcopy  softcopy  \n",
       "..        ...       ...       ...  \n",
       "356  hardcopy  softcopy  softcopy  \n",
       "357  hardcopy  hardcopy  hardcopy  \n",
       "358  softcopy  softcopy  softcopy  \n",
       "359  softcopy  softcopy  softcopy  \n",
       "360  softcopy  softcopy  softcopy  \n",
       "\n",
       "[356 rows x 16 columns]"
      ]
     },
     "execution_count": 6,
     "metadata": {},
     "output_type": "execute_result"
    }
   ],
   "source": [
    "#dropping empty 'rows'\n",
    "df = df.dropna(axis = 0)\n",
    "df"
   ]
  },
  {
   "cell_type": "code",
   "execution_count": 7,
   "id": "4902fb7d",
   "metadata": {},
   "outputs": [
    {
     "data": {
      "text/plain": [
       "(356, 16)"
      ]
     },
     "execution_count": 7,
     "metadata": {},
     "output_type": "execute_result"
    }
   ],
   "source": [
    "#shape updates\n",
    "df.shape"
   ]
  },
  {
   "cell_type": "code",
   "execution_count": 8,
   "id": "8d4a902f",
   "metadata": {},
   "outputs": [
    {
     "name": "stdout",
     "output_type": "stream",
     "text": [
      "<class 'pandas.core.frame.DataFrame'>\n",
      "Int64Index: 356 entries, 0 to 360\n",
      "Data columns (total 16 columns):\n",
      " #   Column        Non-Null Count  Dtype  \n",
      "---  ------        --------------  -----  \n",
      " 0   roll_no       356 non-null    float64\n",
      " 1   student_name  356 non-null    object \n",
      " 2   sdur_CC       356 non-null    float64\n",
      " 3   sdur_IFS      356 non-null    float64\n",
      " 4   sdur_VLSI     356 non-null    float64\n",
      " 5   sdur_DE1      356 non-null    float64\n",
      " 6   sdur_DE2      356 non-null    float64\n",
      " 7   sdur_DE3      356 non-null    float64\n",
      " 8   sdur_OE1      356 non-null    float64\n",
      " 9   pref_CC       356 non-null    object \n",
      " 10  pref_IFS      356 non-null    object \n",
      " 11  pref_VLSI     356 non-null    object \n",
      " 12  pref_DE1      356 non-null    object \n",
      " 13  pref_DE2      356 non-null    object \n",
      " 14  pref_DE3      356 non-null    object \n",
      " 15  pref_OE1      356 non-null    object \n",
      "dtypes: float64(8), object(8)\n",
      "memory usage: 47.3+ KB\n"
     ]
    }
   ],
   "source": [
    "#visializing information in dataframe\n",
    "df.info()"
   ]
  },
  {
   "cell_type": "code",
   "execution_count": 9,
   "id": "36df4df7",
   "metadata": {},
   "outputs": [
    {
     "data": {
      "text/html": [
       "<div>\n",
       "<style scoped>\n",
       "    .dataframe tbody tr th:only-of-type {\n",
       "        vertical-align: middle;\n",
       "    }\n",
       "\n",
       "    .dataframe tbody tr th {\n",
       "        vertical-align: top;\n",
       "    }\n",
       "\n",
       "    .dataframe thead th {\n",
       "        text-align: right;\n",
       "    }\n",
       "</style>\n",
       "<table border=\"1\" class=\"dataframe\">\n",
       "  <thead>\n",
       "    <tr style=\"text-align: right;\">\n",
       "      <th></th>\n",
       "      <th>roll_no</th>\n",
       "      <th>student_name</th>\n",
       "      <th>sdur_CC</th>\n",
       "      <th>sdur_IFS</th>\n",
       "      <th>sdur_VLSI</th>\n",
       "      <th>sdur_DE1</th>\n",
       "      <th>sdur_DE2</th>\n",
       "      <th>sdur_DE3</th>\n",
       "      <th>sdur_OE1</th>\n",
       "      <th>pref_CC</th>\n",
       "      <th>pref_IFS</th>\n",
       "      <th>pref_VLSI</th>\n",
       "      <th>pref_DE1</th>\n",
       "      <th>pref_DE2</th>\n",
       "      <th>pref_DE3</th>\n",
       "      <th>pref_OE1</th>\n",
       "    </tr>\n",
       "  </thead>\n",
       "  <tbody>\n",
       "    <tr>\n",
       "      <th>0</th>\n",
       "      <td>1904005.0</td>\n",
       "      <td>ADITY  DUTTA</td>\n",
       "      <td>22.0</td>\n",
       "      <td>10.0</td>\n",
       "      <td>20.0</td>\n",
       "      <td>62.0</td>\n",
       "      <td>47.0</td>\n",
       "      <td>10.0</td>\n",
       "      <td>10.0</td>\n",
       "      <td>hardcopy</td>\n",
       "      <td>hardcopy</td>\n",
       "      <td>hardcopy</td>\n",
       "      <td>hardcopy</td>\n",
       "      <td>hardcopy</td>\n",
       "      <td>hardcopy</td>\n",
       "      <td>hardcopy</td>\n",
       "    </tr>\n",
       "    <tr>\n",
       "      <th>1</th>\n",
       "      <td>1904010.0</td>\n",
       "      <td>ANNWESHA  SARKAR</td>\n",
       "      <td>25.0</td>\n",
       "      <td>6.0</td>\n",
       "      <td>25.0</td>\n",
       "      <td>61.0</td>\n",
       "      <td>89.0</td>\n",
       "      <td>25.0</td>\n",
       "      <td>30.0</td>\n",
       "      <td>softcopy</td>\n",
       "      <td>hardcopy</td>\n",
       "      <td>softcopy</td>\n",
       "      <td>hardcopy</td>\n",
       "      <td>softcopy</td>\n",
       "      <td>hardcopy</td>\n",
       "      <td>hardcopy</td>\n",
       "    </tr>\n",
       "    <tr>\n",
       "      <th>2</th>\n",
       "      <td>1904014.0</td>\n",
       "      <td>ARIJIT  CHATTERJEE</td>\n",
       "      <td>47.0</td>\n",
       "      <td>20.0</td>\n",
       "      <td>15.0</td>\n",
       "      <td>18.0</td>\n",
       "      <td>26.0</td>\n",
       "      <td>45.0</td>\n",
       "      <td>66.0</td>\n",
       "      <td>hardcopy</td>\n",
       "      <td>hardcopy</td>\n",
       "      <td>hardcopy</td>\n",
       "      <td>hardcopy</td>\n",
       "      <td>hardcopy</td>\n",
       "      <td>hardcopy</td>\n",
       "      <td>hardcopy</td>\n",
       "    </tr>\n",
       "    <tr>\n",
       "      <th>3</th>\n",
       "      <td>1904015.0</td>\n",
       "      <td>ARITRA  GANGULY</td>\n",
       "      <td>52.0</td>\n",
       "      <td>8.0</td>\n",
       "      <td>16.0</td>\n",
       "      <td>28.0</td>\n",
       "      <td>40.0</td>\n",
       "      <td>10.0</td>\n",
       "      <td>15.0</td>\n",
       "      <td>hardcopy</td>\n",
       "      <td>softcopy</td>\n",
       "      <td>softcopy</td>\n",
       "      <td>softcopy</td>\n",
       "      <td>hardcopy</td>\n",
       "      <td>hardcopy</td>\n",
       "      <td>hardcopy</td>\n",
       "    </tr>\n",
       "    <tr>\n",
       "      <th>4</th>\n",
       "      <td>1904019.0</td>\n",
       "      <td>AYUSH KUMAR</td>\n",
       "      <td>46.0</td>\n",
       "      <td>30.0</td>\n",
       "      <td>10.0</td>\n",
       "      <td>27.0</td>\n",
       "      <td>3.0</td>\n",
       "      <td>4.0</td>\n",
       "      <td>60.0</td>\n",
       "      <td>softcopy</td>\n",
       "      <td>hardcopy</td>\n",
       "      <td>hardcopy</td>\n",
       "      <td>hardcopy</td>\n",
       "      <td>hardcopy</td>\n",
       "      <td>softcopy</td>\n",
       "      <td>softcopy</td>\n",
       "    </tr>\n",
       "    <tr>\n",
       "      <th>...</th>\n",
       "      <td>...</td>\n",
       "      <td>...</td>\n",
       "      <td>...</td>\n",
       "      <td>...</td>\n",
       "      <td>...</td>\n",
       "      <td>...</td>\n",
       "      <td>...</td>\n",
       "      <td>...</td>\n",
       "      <td>...</td>\n",
       "      <td>...</td>\n",
       "      <td>...</td>\n",
       "      <td>...</td>\n",
       "      <td>...</td>\n",
       "      <td>...</td>\n",
       "      <td>...</td>\n",
       "      <td>...</td>\n",
       "    </tr>\n",
       "    <tr>\n",
       "      <th>349</th>\n",
       "      <td>1904228.0</td>\n",
       "      <td>SNIGDHA MAITY</td>\n",
       "      <td>45.0</td>\n",
       "      <td>18.0</td>\n",
       "      <td>19.0</td>\n",
       "      <td>20.0</td>\n",
       "      <td>20.0</td>\n",
       "      <td>20.0</td>\n",
       "      <td>58.0</td>\n",
       "      <td>softcopy</td>\n",
       "      <td>hardcopy</td>\n",
       "      <td>hardcopy</td>\n",
       "      <td>hardcopy</td>\n",
       "      <td>softcopy</td>\n",
       "      <td>softcopy</td>\n",
       "      <td>softcopy</td>\n",
       "    </tr>\n",
       "    <tr>\n",
       "      <th>350</th>\n",
       "      <td>1904229.0</td>\n",
       "      <td>SOHAN KUMAR SAHU</td>\n",
       "      <td>50.0</td>\n",
       "      <td>28.0</td>\n",
       "      <td>18.0</td>\n",
       "      <td>25.0</td>\n",
       "      <td>15.0</td>\n",
       "      <td>14.0</td>\n",
       "      <td>19.0</td>\n",
       "      <td>softcopy</td>\n",
       "      <td>hardcopy</td>\n",
       "      <td>hardcopy</td>\n",
       "      <td>softcopy</td>\n",
       "      <td>softcopy</td>\n",
       "      <td>softcopy</td>\n",
       "      <td>softcopy</td>\n",
       "    </tr>\n",
       "    <tr>\n",
       "      <th>353</th>\n",
       "      <td>1904232.0</td>\n",
       "      <td>SUBHANKAR SAMANTA</td>\n",
       "      <td>28.0</td>\n",
       "      <td>49.0</td>\n",
       "      <td>40.0</td>\n",
       "      <td>10.0</td>\n",
       "      <td>20.0</td>\n",
       "      <td>30.0</td>\n",
       "      <td>26.0</td>\n",
       "      <td>hardcopy</td>\n",
       "      <td>hardcopy</td>\n",
       "      <td>hardcopy</td>\n",
       "      <td>hardcopy</td>\n",
       "      <td>hardcopy</td>\n",
       "      <td>softcopy</td>\n",
       "      <td>hardcopy</td>\n",
       "    </tr>\n",
       "    <tr>\n",
       "      <th>354</th>\n",
       "      <td>1904233.0</td>\n",
       "      <td>SUBHRALINA CHATTOPADHYAY</td>\n",
       "      <td>27.0</td>\n",
       "      <td>55.0</td>\n",
       "      <td>45.0</td>\n",
       "      <td>20.0</td>\n",
       "      <td>20.0</td>\n",
       "      <td>20.0</td>\n",
       "      <td>40.0</td>\n",
       "      <td>softcopy</td>\n",
       "      <td>softcopy</td>\n",
       "      <td>hardcopy</td>\n",
       "      <td>hardcopy</td>\n",
       "      <td>hardcopy</td>\n",
       "      <td>hardcopy</td>\n",
       "      <td>hardcopy</td>\n",
       "    </tr>\n",
       "    <tr>\n",
       "      <th>355</th>\n",
       "      <td>1904234.0</td>\n",
       "      <td>SURABHI KUMARI</td>\n",
       "      <td>29.0</td>\n",
       "      <td>25.0</td>\n",
       "      <td>50.0</td>\n",
       "      <td>20.0</td>\n",
       "      <td>25.0</td>\n",
       "      <td>30.0</td>\n",
       "      <td>45.0</td>\n",
       "      <td>hardcopy</td>\n",
       "      <td>softcopy</td>\n",
       "      <td>softcopy</td>\n",
       "      <td>hardcopy</td>\n",
       "      <td>hardcopy</td>\n",
       "      <td>softcopy</td>\n",
       "      <td>hardcopy</td>\n",
       "    </tr>\n",
       "  </tbody>\n",
       "</table>\n",
       "<p>232 rows × 16 columns</p>\n",
       "</div>"
      ],
      "text/plain": [
       "       roll_no              student_name  sdur_CC  sdur_IFS  sdur_VLSI  \\\n",
       "0    1904005.0              ADITY  DUTTA     22.0      10.0       20.0   \n",
       "1    1904010.0          ANNWESHA  SARKAR     25.0       6.0       25.0   \n",
       "2    1904014.0        ARIJIT  CHATTERJEE     47.0      20.0       15.0   \n",
       "3    1904015.0           ARITRA  GANGULY     52.0       8.0       16.0   \n",
       "4    1904019.0               AYUSH KUMAR     46.0      30.0       10.0   \n",
       "..         ...                       ...      ...       ...        ...   \n",
       "349  1904228.0             SNIGDHA MAITY     45.0      18.0       19.0   \n",
       "350  1904229.0          SOHAN KUMAR SAHU     50.0      28.0       18.0   \n",
       "353  1904232.0         SUBHANKAR SAMANTA     28.0      49.0       40.0   \n",
       "354  1904233.0  SUBHRALINA CHATTOPADHYAY     27.0      55.0       45.0   \n",
       "355  1904234.0            SURABHI KUMARI     29.0      25.0       50.0   \n",
       "\n",
       "     sdur_DE1  sdur_DE2  sdur_DE3  sdur_OE1   pref_CC  pref_IFS pref_VLSI  \\\n",
       "0        62.0      47.0      10.0      10.0  hardcopy  hardcopy  hardcopy   \n",
       "1        61.0      89.0      25.0      30.0  softcopy  hardcopy  softcopy   \n",
       "2        18.0      26.0      45.0      66.0  hardcopy  hardcopy  hardcopy   \n",
       "3        28.0      40.0      10.0      15.0  hardcopy  softcopy  softcopy   \n",
       "4        27.0       3.0       4.0      60.0  softcopy  hardcopy  hardcopy   \n",
       "..        ...       ...       ...       ...       ...       ...       ...   \n",
       "349      20.0      20.0      20.0      58.0  softcopy  hardcopy  hardcopy   \n",
       "350      25.0      15.0      14.0      19.0  softcopy  hardcopy  hardcopy   \n",
       "353      10.0      20.0      30.0      26.0  hardcopy  hardcopy  hardcopy   \n",
       "354      20.0      20.0      20.0      40.0  softcopy  softcopy  hardcopy   \n",
       "355      20.0      25.0      30.0      45.0  hardcopy  softcopy  softcopy   \n",
       "\n",
       "     pref_DE1  pref_DE2  pref_DE3  pref_OE1  \n",
       "0    hardcopy  hardcopy  hardcopy  hardcopy  \n",
       "1    hardcopy  softcopy  hardcopy  hardcopy  \n",
       "2    hardcopy  hardcopy  hardcopy  hardcopy  \n",
       "3    softcopy  hardcopy  hardcopy  hardcopy  \n",
       "4    hardcopy  hardcopy  softcopy  softcopy  \n",
       "..        ...       ...       ...       ...  \n",
       "349  hardcopy  softcopy  softcopy  softcopy  \n",
       "350  softcopy  softcopy  softcopy  softcopy  \n",
       "353  hardcopy  hardcopy  softcopy  hardcopy  \n",
       "354  hardcopy  hardcopy  hardcopy  hardcopy  \n",
       "355  hardcopy  hardcopy  softcopy  hardcopy  \n",
       "\n",
       "[232 rows x 16 columns]"
      ]
     },
     "execution_count": 9,
     "metadata": {},
     "output_type": "execute_result"
    }
   ],
   "source": [
    "#deleting multiple entries (and considering just first entry) of same student w.r.t his/her roll number\n",
    "df = df.drop_duplicates(subset='roll_no', keep=\"first\")\n",
    "df"
   ]
  },
  {
   "cell_type": "code",
   "execution_count": 10,
   "id": "1a193036",
   "metadata": {},
   "outputs": [
    {
     "data": {
      "text/plain": [
       "(232, 16)"
      ]
     },
     "execution_count": 10,
     "metadata": {},
     "output_type": "execute_result"
    }
   ],
   "source": [
    "#shape updates\n",
    "df.shape"
   ]
  },
  {
   "cell_type": "markdown",
   "id": "9a32e613",
   "metadata": {},
   "source": [
    "# Binary encoding the preferences"
   ]
  },
  {
   "cell_type": "code",
   "execution_count": 11,
   "id": "9580b752",
   "metadata": {},
   "outputs": [
    {
     "data": {
      "text/html": [
       "<div>\n",
       "<style scoped>\n",
       "    .dataframe tbody tr th:only-of-type {\n",
       "        vertical-align: middle;\n",
       "    }\n",
       "\n",
       "    .dataframe tbody tr th {\n",
       "        vertical-align: top;\n",
       "    }\n",
       "\n",
       "    .dataframe thead th {\n",
       "        text-align: right;\n",
       "    }\n",
       "</style>\n",
       "<table border=\"1\" class=\"dataframe\">\n",
       "  <thead>\n",
       "    <tr style=\"text-align: right;\">\n",
       "      <th></th>\n",
       "      <th>roll_no</th>\n",
       "      <th>student_name</th>\n",
       "      <th>sdur_CC</th>\n",
       "      <th>sdur_IFS</th>\n",
       "      <th>sdur_VLSI</th>\n",
       "      <th>sdur_DE1</th>\n",
       "      <th>sdur_DE2</th>\n",
       "      <th>sdur_DE3</th>\n",
       "      <th>sdur_OE1</th>\n",
       "      <th>pref_CC</th>\n",
       "      <th>pref_IFS</th>\n",
       "      <th>pref_VLSI</th>\n",
       "      <th>pref_DE1</th>\n",
       "      <th>pref_DE2</th>\n",
       "      <th>pref_DE3</th>\n",
       "      <th>pref_OE1</th>\n",
       "    </tr>\n",
       "  </thead>\n",
       "  <tbody>\n",
       "    <tr>\n",
       "      <th>0</th>\n",
       "      <td>1904005.0</td>\n",
       "      <td>ADITY  DUTTA</td>\n",
       "      <td>22.0</td>\n",
       "      <td>10.0</td>\n",
       "      <td>20.0</td>\n",
       "      <td>62.0</td>\n",
       "      <td>47.0</td>\n",
       "      <td>10.0</td>\n",
       "      <td>10.0</td>\n",
       "      <td>1</td>\n",
       "      <td>1</td>\n",
       "      <td>1</td>\n",
       "      <td>1</td>\n",
       "      <td>1</td>\n",
       "      <td>1</td>\n",
       "      <td>1</td>\n",
       "    </tr>\n",
       "    <tr>\n",
       "      <th>1</th>\n",
       "      <td>1904010.0</td>\n",
       "      <td>ANNWESHA  SARKAR</td>\n",
       "      <td>25.0</td>\n",
       "      <td>6.0</td>\n",
       "      <td>25.0</td>\n",
       "      <td>61.0</td>\n",
       "      <td>89.0</td>\n",
       "      <td>25.0</td>\n",
       "      <td>30.0</td>\n",
       "      <td>0</td>\n",
       "      <td>1</td>\n",
       "      <td>0</td>\n",
       "      <td>1</td>\n",
       "      <td>0</td>\n",
       "      <td>1</td>\n",
       "      <td>1</td>\n",
       "    </tr>\n",
       "    <tr>\n",
       "      <th>2</th>\n",
       "      <td>1904014.0</td>\n",
       "      <td>ARIJIT  CHATTERJEE</td>\n",
       "      <td>47.0</td>\n",
       "      <td>20.0</td>\n",
       "      <td>15.0</td>\n",
       "      <td>18.0</td>\n",
       "      <td>26.0</td>\n",
       "      <td>45.0</td>\n",
       "      <td>66.0</td>\n",
       "      <td>1</td>\n",
       "      <td>1</td>\n",
       "      <td>1</td>\n",
       "      <td>1</td>\n",
       "      <td>1</td>\n",
       "      <td>1</td>\n",
       "      <td>1</td>\n",
       "    </tr>\n",
       "    <tr>\n",
       "      <th>3</th>\n",
       "      <td>1904015.0</td>\n",
       "      <td>ARITRA  GANGULY</td>\n",
       "      <td>52.0</td>\n",
       "      <td>8.0</td>\n",
       "      <td>16.0</td>\n",
       "      <td>28.0</td>\n",
       "      <td>40.0</td>\n",
       "      <td>10.0</td>\n",
       "      <td>15.0</td>\n",
       "      <td>1</td>\n",
       "      <td>0</td>\n",
       "      <td>0</td>\n",
       "      <td>0</td>\n",
       "      <td>1</td>\n",
       "      <td>1</td>\n",
       "      <td>1</td>\n",
       "    </tr>\n",
       "    <tr>\n",
       "      <th>4</th>\n",
       "      <td>1904019.0</td>\n",
       "      <td>AYUSH KUMAR</td>\n",
       "      <td>46.0</td>\n",
       "      <td>30.0</td>\n",
       "      <td>10.0</td>\n",
       "      <td>27.0</td>\n",
       "      <td>3.0</td>\n",
       "      <td>4.0</td>\n",
       "      <td>60.0</td>\n",
       "      <td>0</td>\n",
       "      <td>1</td>\n",
       "      <td>1</td>\n",
       "      <td>1</td>\n",
       "      <td>1</td>\n",
       "      <td>0</td>\n",
       "      <td>0</td>\n",
       "    </tr>\n",
       "    <tr>\n",
       "      <th>...</th>\n",
       "      <td>...</td>\n",
       "      <td>...</td>\n",
       "      <td>...</td>\n",
       "      <td>...</td>\n",
       "      <td>...</td>\n",
       "      <td>...</td>\n",
       "      <td>...</td>\n",
       "      <td>...</td>\n",
       "      <td>...</td>\n",
       "      <td>...</td>\n",
       "      <td>...</td>\n",
       "      <td>...</td>\n",
       "      <td>...</td>\n",
       "      <td>...</td>\n",
       "      <td>...</td>\n",
       "      <td>...</td>\n",
       "    </tr>\n",
       "    <tr>\n",
       "      <th>349</th>\n",
       "      <td>1904228.0</td>\n",
       "      <td>SNIGDHA MAITY</td>\n",
       "      <td>45.0</td>\n",
       "      <td>18.0</td>\n",
       "      <td>19.0</td>\n",
       "      <td>20.0</td>\n",
       "      <td>20.0</td>\n",
       "      <td>20.0</td>\n",
       "      <td>58.0</td>\n",
       "      <td>0</td>\n",
       "      <td>1</td>\n",
       "      <td>1</td>\n",
       "      <td>1</td>\n",
       "      <td>0</td>\n",
       "      <td>0</td>\n",
       "      <td>0</td>\n",
       "    </tr>\n",
       "    <tr>\n",
       "      <th>350</th>\n",
       "      <td>1904229.0</td>\n",
       "      <td>SOHAN KUMAR SAHU</td>\n",
       "      <td>50.0</td>\n",
       "      <td>28.0</td>\n",
       "      <td>18.0</td>\n",
       "      <td>25.0</td>\n",
       "      <td>15.0</td>\n",
       "      <td>14.0</td>\n",
       "      <td>19.0</td>\n",
       "      <td>0</td>\n",
       "      <td>1</td>\n",
       "      <td>1</td>\n",
       "      <td>0</td>\n",
       "      <td>0</td>\n",
       "      <td>0</td>\n",
       "      <td>0</td>\n",
       "    </tr>\n",
       "    <tr>\n",
       "      <th>353</th>\n",
       "      <td>1904232.0</td>\n",
       "      <td>SUBHANKAR SAMANTA</td>\n",
       "      <td>28.0</td>\n",
       "      <td>49.0</td>\n",
       "      <td>40.0</td>\n",
       "      <td>10.0</td>\n",
       "      <td>20.0</td>\n",
       "      <td>30.0</td>\n",
       "      <td>26.0</td>\n",
       "      <td>1</td>\n",
       "      <td>1</td>\n",
       "      <td>1</td>\n",
       "      <td>1</td>\n",
       "      <td>1</td>\n",
       "      <td>0</td>\n",
       "      <td>1</td>\n",
       "    </tr>\n",
       "    <tr>\n",
       "      <th>354</th>\n",
       "      <td>1904233.0</td>\n",
       "      <td>SUBHRALINA CHATTOPADHYAY</td>\n",
       "      <td>27.0</td>\n",
       "      <td>55.0</td>\n",
       "      <td>45.0</td>\n",
       "      <td>20.0</td>\n",
       "      <td>20.0</td>\n",
       "      <td>20.0</td>\n",
       "      <td>40.0</td>\n",
       "      <td>0</td>\n",
       "      <td>0</td>\n",
       "      <td>1</td>\n",
       "      <td>1</td>\n",
       "      <td>1</td>\n",
       "      <td>1</td>\n",
       "      <td>1</td>\n",
       "    </tr>\n",
       "    <tr>\n",
       "      <th>355</th>\n",
       "      <td>1904234.0</td>\n",
       "      <td>SURABHI KUMARI</td>\n",
       "      <td>29.0</td>\n",
       "      <td>25.0</td>\n",
       "      <td>50.0</td>\n",
       "      <td>20.0</td>\n",
       "      <td>25.0</td>\n",
       "      <td>30.0</td>\n",
       "      <td>45.0</td>\n",
       "      <td>1</td>\n",
       "      <td>0</td>\n",
       "      <td>0</td>\n",
       "      <td>1</td>\n",
       "      <td>1</td>\n",
       "      <td>0</td>\n",
       "      <td>1</td>\n",
       "    </tr>\n",
       "  </tbody>\n",
       "</table>\n",
       "<p>232 rows × 16 columns</p>\n",
       "</div>"
      ],
      "text/plain": [
       "       roll_no              student_name  sdur_CC  sdur_IFS  sdur_VLSI  \\\n",
       "0    1904005.0              ADITY  DUTTA     22.0      10.0       20.0   \n",
       "1    1904010.0          ANNWESHA  SARKAR     25.0       6.0       25.0   \n",
       "2    1904014.0        ARIJIT  CHATTERJEE     47.0      20.0       15.0   \n",
       "3    1904015.0           ARITRA  GANGULY     52.0       8.0       16.0   \n",
       "4    1904019.0               AYUSH KUMAR     46.0      30.0       10.0   \n",
       "..         ...                       ...      ...       ...        ...   \n",
       "349  1904228.0             SNIGDHA MAITY     45.0      18.0       19.0   \n",
       "350  1904229.0          SOHAN KUMAR SAHU     50.0      28.0       18.0   \n",
       "353  1904232.0         SUBHANKAR SAMANTA     28.0      49.0       40.0   \n",
       "354  1904233.0  SUBHRALINA CHATTOPADHYAY     27.0      55.0       45.0   \n",
       "355  1904234.0            SURABHI KUMARI     29.0      25.0       50.0   \n",
       "\n",
       "     sdur_DE1  sdur_DE2  sdur_DE3  sdur_OE1  pref_CC  pref_IFS  pref_VLSI  \\\n",
       "0        62.0      47.0      10.0      10.0        1         1          1   \n",
       "1        61.0      89.0      25.0      30.0        0         1          0   \n",
       "2        18.0      26.0      45.0      66.0        1         1          1   \n",
       "3        28.0      40.0      10.0      15.0        1         0          0   \n",
       "4        27.0       3.0       4.0      60.0        0         1          1   \n",
       "..        ...       ...       ...       ...      ...       ...        ...   \n",
       "349      20.0      20.0      20.0      58.0        0         1          1   \n",
       "350      25.0      15.0      14.0      19.0        0         1          1   \n",
       "353      10.0      20.0      30.0      26.0        1         1          1   \n",
       "354      20.0      20.0      20.0      40.0        0         0          1   \n",
       "355      20.0      25.0      30.0      45.0        1         0          0   \n",
       "\n",
       "     pref_DE1  pref_DE2  pref_DE3  pref_OE1  \n",
       "0           1         1         1         1  \n",
       "1           1         0         1         1  \n",
       "2           1         1         1         1  \n",
       "3           0         1         1         1  \n",
       "4           1         1         0         0  \n",
       "..        ...       ...       ...       ...  \n",
       "349         1         0         0         0  \n",
       "350         0         0         0         0  \n",
       "353         1         1         0         1  \n",
       "354         1         1         1         1  \n",
       "355         1         1         0         1  \n",
       "\n",
       "[232 rows x 16 columns]"
      ]
     },
     "execution_count": 11,
     "metadata": {},
     "output_type": "execute_result"
    }
   ],
   "source": [
    "#importing library to ignore warnings\n",
    "import warnings\n",
    "warnings.filterwarnings('ignore')\n",
    "\n",
    "#converting preferences in binary (1 for Hardcopy, 0 for Softcopy)\n",
    "df['pref_CC'] = df['pref_CC'].map(\n",
    "                   {'hardcopy':1 ,'softcopy':0})\n",
    "\n",
    "df['pref_IFS'] = df['pref_IFS'].map(\n",
    "                   {'hardcopy':1 ,'softcopy':0})\n",
    "\n",
    "df['pref_VLSI'] = df['pref_VLSI'].map(\n",
    "                   {'hardcopy':1 ,'softcopy':0})\n",
    "\n",
    "df['pref_DE1'] = df['pref_DE1'].map(\n",
    "                   {'hardcopy':1 ,'softcopy':0})\n",
    "\n",
    "df['pref_DE2'] = df['pref_DE2'].map(\n",
    "                   {'hardcopy':1 ,'softcopy':0})\n",
    "\n",
    "df['pref_DE3'] = df['pref_DE3'].map(\n",
    "                   {'hardcopy':1 ,'softcopy':0})\n",
    "\n",
    "df['pref_OE1'] = df['pref_OE1'].map(\n",
    "                   {'hardcopy':1 ,'softcopy':0})\n",
    "\n",
    "df"
   ]
  },
  {
   "cell_type": "code",
   "execution_count": 12,
   "id": "fe733d87",
   "metadata": {},
   "outputs": [
    {
     "name": "stdout",
     "output_type": "stream",
     "text": [
      "<class 'pandas.core.frame.DataFrame'>\n",
      "Int64Index: 232 entries, 0 to 355\n",
      "Data columns (total 16 columns):\n",
      " #   Column        Non-Null Count  Dtype  \n",
      "---  ------        --------------  -----  \n",
      " 0   roll_no       232 non-null    float64\n",
      " 1   student_name  232 non-null    object \n",
      " 2   sdur_CC       232 non-null    float64\n",
      " 3   sdur_IFS      232 non-null    float64\n",
      " 4   sdur_VLSI     232 non-null    float64\n",
      " 5   sdur_DE1      232 non-null    float64\n",
      " 6   sdur_DE2      232 non-null    float64\n",
      " 7   sdur_DE3      232 non-null    float64\n",
      " 8   sdur_OE1      232 non-null    float64\n",
      " 9   pref_CC       232 non-null    int64  \n",
      " 10  pref_IFS      232 non-null    int64  \n",
      " 11  pref_VLSI     232 non-null    int64  \n",
      " 12  pref_DE1      232 non-null    int64  \n",
      " 13  pref_DE2      232 non-null    int64  \n",
      " 14  pref_DE3      232 non-null    int64  \n",
      " 15  pref_OE1      232 non-null    int64  \n",
      "dtypes: float64(8), int64(7), object(1)\n",
      "memory usage: 30.8+ KB\n"
     ]
    }
   ],
   "source": [
    "#visializing information in dataframe\n",
    "df.info()"
   ]
  },
  {
   "cell_type": "markdown",
   "id": "bbb1d344",
   "metadata": {},
   "source": [
    "# Sorting the dataset in terms of roll number"
   ]
  },
  {
   "cell_type": "code",
   "execution_count": 13,
   "id": "78bca205",
   "metadata": {},
   "outputs": [
    {
     "data": {
      "text/html": [
       "<div>\n",
       "<style scoped>\n",
       "    .dataframe tbody tr th:only-of-type {\n",
       "        vertical-align: middle;\n",
       "    }\n",
       "\n",
       "    .dataframe tbody tr th {\n",
       "        vertical-align: top;\n",
       "    }\n",
       "\n",
       "    .dataframe thead th {\n",
       "        text-align: right;\n",
       "    }\n",
       "</style>\n",
       "<table border=\"1\" class=\"dataframe\">\n",
       "  <thead>\n",
       "    <tr style=\"text-align: right;\">\n",
       "      <th></th>\n",
       "      <th>roll_no</th>\n",
       "      <th>student_name</th>\n",
       "      <th>sdur_CC</th>\n",
       "      <th>sdur_IFS</th>\n",
       "      <th>sdur_VLSI</th>\n",
       "      <th>sdur_DE1</th>\n",
       "      <th>sdur_DE2</th>\n",
       "      <th>sdur_DE3</th>\n",
       "      <th>sdur_OE1</th>\n",
       "      <th>pref_CC</th>\n",
       "      <th>pref_IFS</th>\n",
       "      <th>pref_VLSI</th>\n",
       "      <th>pref_DE1</th>\n",
       "      <th>pref_DE2</th>\n",
       "      <th>pref_DE3</th>\n",
       "      <th>pref_OE1</th>\n",
       "    </tr>\n",
       "  </thead>\n",
       "  <tbody>\n",
       "    <tr>\n",
       "      <th>81</th>\n",
       "      <td>1904001.0</td>\n",
       "      <td>AASHUTOSH NARAYAN JHA</td>\n",
       "      <td>20.0</td>\n",
       "      <td>40.0</td>\n",
       "      <td>3.0</td>\n",
       "      <td>6.0</td>\n",
       "      <td>4.0</td>\n",
       "      <td>20.0</td>\n",
       "      <td>10.0</td>\n",
       "      <td>0</td>\n",
       "      <td>1</td>\n",
       "      <td>0</td>\n",
       "      <td>1</td>\n",
       "      <td>0</td>\n",
       "      <td>1</td>\n",
       "      <td>1</td>\n",
       "    </tr>\n",
       "    <tr>\n",
       "      <th>125</th>\n",
       "      <td>1904002.0</td>\n",
       "      <td>ABHISEK RANJAN PATEL</td>\n",
       "      <td>15.0</td>\n",
       "      <td>40.0</td>\n",
       "      <td>24.0</td>\n",
       "      <td>15.0</td>\n",
       "      <td>28.0</td>\n",
       "      <td>49.0</td>\n",
       "      <td>35.0</td>\n",
       "      <td>0</td>\n",
       "      <td>1</td>\n",
       "      <td>1</td>\n",
       "      <td>0</td>\n",
       "      <td>1</td>\n",
       "      <td>0</td>\n",
       "      <td>0</td>\n",
       "    </tr>\n",
       "    <tr>\n",
       "      <th>82</th>\n",
       "      <td>1904004.0</td>\n",
       "      <td>ADARSH  SINGH</td>\n",
       "      <td>7.0</td>\n",
       "      <td>10.0</td>\n",
       "      <td>10.0</td>\n",
       "      <td>20.0</td>\n",
       "      <td>20.0</td>\n",
       "      <td>20.0</td>\n",
       "      <td>40.0</td>\n",
       "      <td>0</td>\n",
       "      <td>0</td>\n",
       "      <td>1</td>\n",
       "      <td>1</td>\n",
       "      <td>0</td>\n",
       "      <td>0</td>\n",
       "      <td>0</td>\n",
       "    </tr>\n",
       "    <tr>\n",
       "      <th>0</th>\n",
       "      <td>1904005.0</td>\n",
       "      <td>ADITY  DUTTA</td>\n",
       "      <td>22.0</td>\n",
       "      <td>10.0</td>\n",
       "      <td>20.0</td>\n",
       "      <td>62.0</td>\n",
       "      <td>47.0</td>\n",
       "      <td>10.0</td>\n",
       "      <td>10.0</td>\n",
       "      <td>1</td>\n",
       "      <td>1</td>\n",
       "      <td>1</td>\n",
       "      <td>1</td>\n",
       "      <td>1</td>\n",
       "      <td>1</td>\n",
       "      <td>1</td>\n",
       "    </tr>\n",
       "    <tr>\n",
       "      <th>126</th>\n",
       "      <td>1904007.0</td>\n",
       "      <td>AKASH  SINGH</td>\n",
       "      <td>7.0</td>\n",
       "      <td>15.0</td>\n",
       "      <td>20.0</td>\n",
       "      <td>3.0</td>\n",
       "      <td>7.0</td>\n",
       "      <td>20.0</td>\n",
       "      <td>10.0</td>\n",
       "      <td>0</td>\n",
       "      <td>1</td>\n",
       "      <td>1</td>\n",
       "      <td>0</td>\n",
       "      <td>1</td>\n",
       "      <td>0</td>\n",
       "      <td>0</td>\n",
       "    </tr>\n",
       "    <tr>\n",
       "      <th>...</th>\n",
       "      <td>...</td>\n",
       "      <td>...</td>\n",
       "      <td>...</td>\n",
       "      <td>...</td>\n",
       "      <td>...</td>\n",
       "      <td>...</td>\n",
       "      <td>...</td>\n",
       "      <td>...</td>\n",
       "      <td>...</td>\n",
       "      <td>...</td>\n",
       "      <td>...</td>\n",
       "      <td>...</td>\n",
       "      <td>...</td>\n",
       "      <td>...</td>\n",
       "      <td>...</td>\n",
       "      <td>...</td>\n",
       "    </tr>\n",
       "    <tr>\n",
       "      <th>123</th>\n",
       "      <td>1904471.0</td>\n",
       "      <td>AMISHA  BINIT</td>\n",
       "      <td>15.0</td>\n",
       "      <td>15.0</td>\n",
       "      <td>20.0</td>\n",
       "      <td>20.0</td>\n",
       "      <td>10.0</td>\n",
       "      <td>4.0</td>\n",
       "      <td>10.0</td>\n",
       "      <td>1</td>\n",
       "      <td>1</td>\n",
       "      <td>1</td>\n",
       "      <td>0</td>\n",
       "      <td>0</td>\n",
       "      <td>1</td>\n",
       "      <td>1</td>\n",
       "    </tr>\n",
       "    <tr>\n",
       "      <th>305</th>\n",
       "      <td>1904472.0</td>\n",
       "      <td>SAHAJ  PAREEK</td>\n",
       "      <td>28.0</td>\n",
       "      <td>52.0</td>\n",
       "      <td>6.0</td>\n",
       "      <td>23.0</td>\n",
       "      <td>12.0</td>\n",
       "      <td>20.0</td>\n",
       "      <td>15.0</td>\n",
       "      <td>1</td>\n",
       "      <td>1</td>\n",
       "      <td>0</td>\n",
       "      <td>0</td>\n",
       "      <td>1</td>\n",
       "      <td>1</td>\n",
       "      <td>1</td>\n",
       "    </tr>\n",
       "    <tr>\n",
       "      <th>124</th>\n",
       "      <td>2004801.0</td>\n",
       "      <td>ABHISHEK SINGHA ROY</td>\n",
       "      <td>10.0</td>\n",
       "      <td>10.0</td>\n",
       "      <td>15.0</td>\n",
       "      <td>12.0</td>\n",
       "      <td>14.0</td>\n",
       "      <td>12.0</td>\n",
       "      <td>10.0</td>\n",
       "      <td>1</td>\n",
       "      <td>1</td>\n",
       "      <td>1</td>\n",
       "      <td>1</td>\n",
       "      <td>1</td>\n",
       "      <td>1</td>\n",
       "      <td>1</td>\n",
       "    </tr>\n",
       "    <tr>\n",
       "      <th>79</th>\n",
       "      <td>2004802.0</td>\n",
       "      <td>AMLANI  CHAKRABORTY</td>\n",
       "      <td>10.0</td>\n",
       "      <td>10.0</td>\n",
       "      <td>12.0</td>\n",
       "      <td>35.0</td>\n",
       "      <td>10.0</td>\n",
       "      <td>10.0</td>\n",
       "      <td>25.0</td>\n",
       "      <td>1</td>\n",
       "      <td>1</td>\n",
       "      <td>0</td>\n",
       "      <td>1</td>\n",
       "      <td>0</td>\n",
       "      <td>1</td>\n",
       "      <td>1</td>\n",
       "    </tr>\n",
       "    <tr>\n",
       "      <th>80</th>\n",
       "      <td>2004804.0</td>\n",
       "      <td>DEBASISH  PARHI</td>\n",
       "      <td>30.0</td>\n",
       "      <td>24.0</td>\n",
       "      <td>15.0</td>\n",
       "      <td>12.0</td>\n",
       "      <td>5.0</td>\n",
       "      <td>10.0</td>\n",
       "      <td>15.0</td>\n",
       "      <td>0</td>\n",
       "      <td>1</td>\n",
       "      <td>0</td>\n",
       "      <td>1</td>\n",
       "      <td>1</td>\n",
       "      <td>1</td>\n",
       "      <td>1</td>\n",
       "    </tr>\n",
       "  </tbody>\n",
       "</table>\n",
       "<p>232 rows × 16 columns</p>\n",
       "</div>"
      ],
      "text/plain": [
       "       roll_no           student_name  sdur_CC  sdur_IFS  sdur_VLSI  sdur_DE1  \\\n",
       "81   1904001.0  AASHUTOSH NARAYAN JHA     20.0      40.0        3.0       6.0   \n",
       "125  1904002.0   ABHISEK RANJAN PATEL     15.0      40.0       24.0      15.0   \n",
       "82   1904004.0          ADARSH  SINGH      7.0      10.0       10.0      20.0   \n",
       "0    1904005.0           ADITY  DUTTA     22.0      10.0       20.0      62.0   \n",
       "126  1904007.0           AKASH  SINGH      7.0      15.0       20.0       3.0   \n",
       "..         ...                    ...      ...       ...        ...       ...   \n",
       "123  1904471.0          AMISHA  BINIT     15.0      15.0       20.0      20.0   \n",
       "305  1904472.0          SAHAJ  PAREEK     28.0      52.0        6.0      23.0   \n",
       "124  2004801.0    ABHISHEK SINGHA ROY     10.0      10.0       15.0      12.0   \n",
       "79   2004802.0    AMLANI  CHAKRABORTY     10.0      10.0       12.0      35.0   \n",
       "80   2004804.0        DEBASISH  PARHI     30.0      24.0       15.0      12.0   \n",
       "\n",
       "     sdur_DE2  sdur_DE3  sdur_OE1  pref_CC  pref_IFS  pref_VLSI  pref_DE1  \\\n",
       "81        4.0      20.0      10.0        0         1          0         1   \n",
       "125      28.0      49.0      35.0        0         1          1         0   \n",
       "82       20.0      20.0      40.0        0         0          1         1   \n",
       "0        47.0      10.0      10.0        1         1          1         1   \n",
       "126       7.0      20.0      10.0        0         1          1         0   \n",
       "..        ...       ...       ...      ...       ...        ...       ...   \n",
       "123      10.0       4.0      10.0        1         1          1         0   \n",
       "305      12.0      20.0      15.0        1         1          0         0   \n",
       "124      14.0      12.0      10.0        1         1          1         1   \n",
       "79       10.0      10.0      25.0        1         1          0         1   \n",
       "80        5.0      10.0      15.0        0         1          0         1   \n",
       "\n",
       "     pref_DE2  pref_DE3  pref_OE1  \n",
       "81          0         1         1  \n",
       "125         1         0         0  \n",
       "82          0         0         0  \n",
       "0           1         1         1  \n",
       "126         1         0         0  \n",
       "..        ...       ...       ...  \n",
       "123         0         1         1  \n",
       "305         1         1         1  \n",
       "124         1         1         1  \n",
       "79          0         1         1  \n",
       "80          1         1         1  \n",
       "\n",
       "[232 rows x 16 columns]"
      ]
     },
     "execution_count": 13,
     "metadata": {},
     "output_type": "execute_result"
    }
   ],
   "source": [
    "#sorting the dataframe w.r.t student roll numbers\n",
    "df = df.sort_values(by ='roll_no')\n",
    "df"
   ]
  },
  {
   "cell_type": "code",
   "execution_count": 14,
   "id": "e3f08627",
   "metadata": {},
   "outputs": [
    {
     "data": {
      "text/plain": [
       "(232, 16)"
      ]
     },
     "execution_count": 14,
     "metadata": {},
     "output_type": "execute_result"
    }
   ],
   "source": [
    "#shape updates\n",
    "df.shape"
   ]
  },
  {
   "cell_type": "markdown",
   "id": "f2886bfb",
   "metadata": {},
   "source": [
    "# Typecasting the data into appropriate datatypes"
   ]
  },
  {
   "cell_type": "code",
   "execution_count": 15,
   "id": "3820297a",
   "metadata": {},
   "outputs": [
    {
     "data": {
      "text/html": [
       "<div>\n",
       "<style scoped>\n",
       "    .dataframe tbody tr th:only-of-type {\n",
       "        vertical-align: middle;\n",
       "    }\n",
       "\n",
       "    .dataframe tbody tr th {\n",
       "        vertical-align: top;\n",
       "    }\n",
       "\n",
       "    .dataframe thead th {\n",
       "        text-align: right;\n",
       "    }\n",
       "</style>\n",
       "<table border=\"1\" class=\"dataframe\">\n",
       "  <thead>\n",
       "    <tr style=\"text-align: right;\">\n",
       "      <th></th>\n",
       "      <th>roll_no</th>\n",
       "      <th>student_name</th>\n",
       "      <th>sdur_CC</th>\n",
       "      <th>sdur_IFS</th>\n",
       "      <th>sdur_VLSI</th>\n",
       "      <th>sdur_DE1</th>\n",
       "      <th>sdur_DE2</th>\n",
       "      <th>sdur_DE3</th>\n",
       "      <th>sdur_OE1</th>\n",
       "      <th>pref_CC</th>\n",
       "      <th>pref_IFS</th>\n",
       "      <th>pref_VLSI</th>\n",
       "      <th>pref_DE1</th>\n",
       "      <th>pref_DE2</th>\n",
       "      <th>pref_DE3</th>\n",
       "      <th>pref_OE1</th>\n",
       "    </tr>\n",
       "  </thead>\n",
       "  <tbody>\n",
       "    <tr>\n",
       "      <th>81</th>\n",
       "      <td>1904001</td>\n",
       "      <td>AASHUTOSH NARAYAN JHA</td>\n",
       "      <td>20.0</td>\n",
       "      <td>40.0</td>\n",
       "      <td>3.0</td>\n",
       "      <td>6.0</td>\n",
       "      <td>4.0</td>\n",
       "      <td>20.0</td>\n",
       "      <td>10.0</td>\n",
       "      <td>0</td>\n",
       "      <td>1</td>\n",
       "      <td>0</td>\n",
       "      <td>1</td>\n",
       "      <td>0</td>\n",
       "      <td>1</td>\n",
       "      <td>1</td>\n",
       "    </tr>\n",
       "    <tr>\n",
       "      <th>125</th>\n",
       "      <td>1904002</td>\n",
       "      <td>ABHISEK RANJAN PATEL</td>\n",
       "      <td>15.0</td>\n",
       "      <td>40.0</td>\n",
       "      <td>24.0</td>\n",
       "      <td>15.0</td>\n",
       "      <td>28.0</td>\n",
       "      <td>49.0</td>\n",
       "      <td>35.0</td>\n",
       "      <td>0</td>\n",
       "      <td>1</td>\n",
       "      <td>1</td>\n",
       "      <td>0</td>\n",
       "      <td>1</td>\n",
       "      <td>0</td>\n",
       "      <td>0</td>\n",
       "    </tr>\n",
       "    <tr>\n",
       "      <th>82</th>\n",
       "      <td>1904004</td>\n",
       "      <td>ADARSH  SINGH</td>\n",
       "      <td>7.0</td>\n",
       "      <td>10.0</td>\n",
       "      <td>10.0</td>\n",
       "      <td>20.0</td>\n",
       "      <td>20.0</td>\n",
       "      <td>20.0</td>\n",
       "      <td>40.0</td>\n",
       "      <td>0</td>\n",
       "      <td>0</td>\n",
       "      <td>1</td>\n",
       "      <td>1</td>\n",
       "      <td>0</td>\n",
       "      <td>0</td>\n",
       "      <td>0</td>\n",
       "    </tr>\n",
       "    <tr>\n",
       "      <th>0</th>\n",
       "      <td>1904005</td>\n",
       "      <td>ADITY  DUTTA</td>\n",
       "      <td>22.0</td>\n",
       "      <td>10.0</td>\n",
       "      <td>20.0</td>\n",
       "      <td>62.0</td>\n",
       "      <td>47.0</td>\n",
       "      <td>10.0</td>\n",
       "      <td>10.0</td>\n",
       "      <td>1</td>\n",
       "      <td>1</td>\n",
       "      <td>1</td>\n",
       "      <td>1</td>\n",
       "      <td>1</td>\n",
       "      <td>1</td>\n",
       "      <td>1</td>\n",
       "    </tr>\n",
       "    <tr>\n",
       "      <th>126</th>\n",
       "      <td>1904007</td>\n",
       "      <td>AKASH  SINGH</td>\n",
       "      <td>7.0</td>\n",
       "      <td>15.0</td>\n",
       "      <td>20.0</td>\n",
       "      <td>3.0</td>\n",
       "      <td>7.0</td>\n",
       "      <td>20.0</td>\n",
       "      <td>10.0</td>\n",
       "      <td>0</td>\n",
       "      <td>1</td>\n",
       "      <td>1</td>\n",
       "      <td>0</td>\n",
       "      <td>1</td>\n",
       "      <td>0</td>\n",
       "      <td>0</td>\n",
       "    </tr>\n",
       "    <tr>\n",
       "      <th>...</th>\n",
       "      <td>...</td>\n",
       "      <td>...</td>\n",
       "      <td>...</td>\n",
       "      <td>...</td>\n",
       "      <td>...</td>\n",
       "      <td>...</td>\n",
       "      <td>...</td>\n",
       "      <td>...</td>\n",
       "      <td>...</td>\n",
       "      <td>...</td>\n",
       "      <td>...</td>\n",
       "      <td>...</td>\n",
       "      <td>...</td>\n",
       "      <td>...</td>\n",
       "      <td>...</td>\n",
       "      <td>...</td>\n",
       "    </tr>\n",
       "    <tr>\n",
       "      <th>123</th>\n",
       "      <td>1904471</td>\n",
       "      <td>AMISHA  BINIT</td>\n",
       "      <td>15.0</td>\n",
       "      <td>15.0</td>\n",
       "      <td>20.0</td>\n",
       "      <td>20.0</td>\n",
       "      <td>10.0</td>\n",
       "      <td>4.0</td>\n",
       "      <td>10.0</td>\n",
       "      <td>1</td>\n",
       "      <td>1</td>\n",
       "      <td>1</td>\n",
       "      <td>0</td>\n",
       "      <td>0</td>\n",
       "      <td>1</td>\n",
       "      <td>1</td>\n",
       "    </tr>\n",
       "    <tr>\n",
       "      <th>305</th>\n",
       "      <td>1904472</td>\n",
       "      <td>SAHAJ  PAREEK</td>\n",
       "      <td>28.0</td>\n",
       "      <td>52.0</td>\n",
       "      <td>6.0</td>\n",
       "      <td>23.0</td>\n",
       "      <td>12.0</td>\n",
       "      <td>20.0</td>\n",
       "      <td>15.0</td>\n",
       "      <td>1</td>\n",
       "      <td>1</td>\n",
       "      <td>0</td>\n",
       "      <td>0</td>\n",
       "      <td>1</td>\n",
       "      <td>1</td>\n",
       "      <td>1</td>\n",
       "    </tr>\n",
       "    <tr>\n",
       "      <th>124</th>\n",
       "      <td>2004801</td>\n",
       "      <td>ABHISHEK SINGHA ROY</td>\n",
       "      <td>10.0</td>\n",
       "      <td>10.0</td>\n",
       "      <td>15.0</td>\n",
       "      <td>12.0</td>\n",
       "      <td>14.0</td>\n",
       "      <td>12.0</td>\n",
       "      <td>10.0</td>\n",
       "      <td>1</td>\n",
       "      <td>1</td>\n",
       "      <td>1</td>\n",
       "      <td>1</td>\n",
       "      <td>1</td>\n",
       "      <td>1</td>\n",
       "      <td>1</td>\n",
       "    </tr>\n",
       "    <tr>\n",
       "      <th>79</th>\n",
       "      <td>2004802</td>\n",
       "      <td>AMLANI  CHAKRABORTY</td>\n",
       "      <td>10.0</td>\n",
       "      <td>10.0</td>\n",
       "      <td>12.0</td>\n",
       "      <td>35.0</td>\n",
       "      <td>10.0</td>\n",
       "      <td>10.0</td>\n",
       "      <td>25.0</td>\n",
       "      <td>1</td>\n",
       "      <td>1</td>\n",
       "      <td>0</td>\n",
       "      <td>1</td>\n",
       "      <td>0</td>\n",
       "      <td>1</td>\n",
       "      <td>1</td>\n",
       "    </tr>\n",
       "    <tr>\n",
       "      <th>80</th>\n",
       "      <td>2004804</td>\n",
       "      <td>DEBASISH  PARHI</td>\n",
       "      <td>30.0</td>\n",
       "      <td>24.0</td>\n",
       "      <td>15.0</td>\n",
       "      <td>12.0</td>\n",
       "      <td>5.0</td>\n",
       "      <td>10.0</td>\n",
       "      <td>15.0</td>\n",
       "      <td>0</td>\n",
       "      <td>1</td>\n",
       "      <td>0</td>\n",
       "      <td>1</td>\n",
       "      <td>1</td>\n",
       "      <td>1</td>\n",
       "      <td>1</td>\n",
       "    </tr>\n",
       "  </tbody>\n",
       "</table>\n",
       "<p>232 rows × 16 columns</p>\n",
       "</div>"
      ],
      "text/plain": [
       "     roll_no           student_name  sdur_CC  sdur_IFS  sdur_VLSI  sdur_DE1  \\\n",
       "81   1904001  AASHUTOSH NARAYAN JHA     20.0      40.0        3.0       6.0   \n",
       "125  1904002   ABHISEK RANJAN PATEL     15.0      40.0       24.0      15.0   \n",
       "82   1904004          ADARSH  SINGH      7.0      10.0       10.0      20.0   \n",
       "0    1904005           ADITY  DUTTA     22.0      10.0       20.0      62.0   \n",
       "126  1904007           AKASH  SINGH      7.0      15.0       20.0       3.0   \n",
       "..       ...                    ...      ...       ...        ...       ...   \n",
       "123  1904471          AMISHA  BINIT     15.0      15.0       20.0      20.0   \n",
       "305  1904472          SAHAJ  PAREEK     28.0      52.0        6.0      23.0   \n",
       "124  2004801    ABHISHEK SINGHA ROY     10.0      10.0       15.0      12.0   \n",
       "79   2004802    AMLANI  CHAKRABORTY     10.0      10.0       12.0      35.0   \n",
       "80   2004804        DEBASISH  PARHI     30.0      24.0       15.0      12.0   \n",
       "\n",
       "     sdur_DE2  sdur_DE3  sdur_OE1  pref_CC  pref_IFS  pref_VLSI  pref_DE1  \\\n",
       "81        4.0      20.0      10.0        0         1          0         1   \n",
       "125      28.0      49.0      35.0        0         1          1         0   \n",
       "82       20.0      20.0      40.0        0         0          1         1   \n",
       "0        47.0      10.0      10.0        1         1          1         1   \n",
       "126       7.0      20.0      10.0        0         1          1         0   \n",
       "..        ...       ...       ...      ...       ...        ...       ...   \n",
       "123      10.0       4.0      10.0        1         1          1         0   \n",
       "305      12.0      20.0      15.0        1         1          0         0   \n",
       "124      14.0      12.0      10.0        1         1          1         1   \n",
       "79       10.0      10.0      25.0        1         1          0         1   \n",
       "80        5.0      10.0      15.0        0         1          0         1   \n",
       "\n",
       "     pref_DE2  pref_DE3  pref_OE1  \n",
       "81          0         1         1  \n",
       "125         1         0         0  \n",
       "82          0         0         0  \n",
       "0           1         1         1  \n",
       "126         1         0         0  \n",
       "..        ...       ...       ...  \n",
       "123         0         1         1  \n",
       "305         1         1         1  \n",
       "124         1         1         1  \n",
       "79          0         1         1  \n",
       "80          1         1         1  \n",
       "\n",
       "[232 rows x 16 columns]"
      ]
     },
     "execution_count": 15,
     "metadata": {},
     "output_type": "execute_result"
    }
   ],
   "source": [
    "#converting roll numbers to int from float\n",
    "df[\"roll_no\"] = df[\"roll_no\"].astype(float).astype(int)\n",
    "df"
   ]
  },
  {
   "cell_type": "markdown",
   "id": "e708aa6c",
   "metadata": {},
   "source": [
    "# Performing price and mass related computations"
   ]
  },
  {
   "cell_type": "code",
   "execution_count": 16,
   "id": "04e9f0d3",
   "metadata": {},
   "outputs": [],
   "source": [
    "#material (hardcopy) prices in Rupees\n",
    "\n",
    "#Wireless communications - Theodore S Rapport\n",
    "hc_price_CC = 829.00\n",
    "\n",
    "#Probability and Statistics for Engineering and the Sciences - Jay L Devore\n",
    "hc_price_IFS = 725.00\n",
    "\n",
    "#CMOS VLSI design - Neil H. E. Weste and David Money Harris\n",
    "hc_price_VLSI = 929.00\n",
    "\n",
    "#Principles of Soft Computing - S. N. Sivanandan and S. N. Deepa\n",
    "hc_price_DE1 = 710.00\n",
    "\n",
    "#Information Theory, Coding and Cryptography - Ranjan Bose\n",
    "hc_price_DE2 = 495.00\n",
    "\n",
    "#Digital Image Processing - S Jayaraman, S Esakkirajan, T Veerakumar\n",
    "hc_price_DE3 = 738.00\n",
    "\n",
    "#Quantum Computing Explained - David McMohan\n",
    "hc_price_OE1 = 6500.00"
   ]
  },
  {
   "cell_type": "code",
   "execution_count": 17,
   "id": "e2077b40",
   "metadata": {},
   "outputs": [
    {
     "data": {
      "image/png": "[encoded data removed]",
      "text/plain": [
       "<Figure size 720x360 with 1 Axes>"
      ]
     },
     "metadata": {
      "needs_background": "light"
     },
     "output_type": "display_data"
    }
   ],
   "source": [
    "data = {'CC':hc_price_CC,\n",
    "        'IFS':hc_price_IFS,\n",
    "        'VLSI':hc_price_VLSI,\n",
    "        'DE1':hc_price_DE1,\n",
    "        'DE2':hc_price_DE2,\n",
    "        'DE3':hc_price_DE3,\n",
    "        'OE1':hc_price_OE1}\n",
    "\n",
    "subjects = list(data.keys())\n",
    "values = list(data.values())\n",
    "  \n",
    "fig = plt.figure(figsize = (10, 5))\n",
    " \n",
    "# creating the bar plot\n",
    "plt.bar(subjects, values, color ='green',\n",
    "        width = 0.4)\n",
    " \n",
    "plt.xlabel(\"Subject Material Names\")\n",
    "plt.ylabel(\"Hardcopy Price (in Rs.)\")\n",
    "plt.title(\"Market price of materials (Hardcopy)\")\n",
    "plt.show()"
   ]
  },
  {
   "cell_type": "code",
   "execution_count": 18,
   "id": "cdd755ec",
   "metadata": {},
   "outputs": [],
   "source": [
    "#material (softcopy) prices in Rupees\n",
    "\n",
    "#Wireless communications - Theodore S Rapport\n",
    "sc_price_CC = 0.00 #source: www.researchgate.net\n",
    "\n",
    "#Probability and Statistics for Engineering and the Sciences - Jay L Devore\n",
    "sc_price_IFS = 0.00 #source: z-lib.org\n",
    "\n",
    "#CMOS VLSI design - Neil H. E. Weste and David Money Harris\n",
    "sc_price_VLSI = 404.00 #source: Amazon-Kindle Edition\n",
    "\n",
    "#Principles of Soft Computing - S. N. Sivanandan and S. N. Deepa\n",
    "sc_price_DE1 = 568.00 #Source: Amazon-Kindle Edition\n",
    "\n",
    "#Information Theory, Coding and Cryptography - Ranjan Bose\n",
    "sc_price_DE2 = 495.00 #eBook note available\n",
    "\n",
    "#Digital Image Processing - S Jayaraman, S Esakkirajan, T Veerakumar\n",
    "sc_price_DE3 = 738.00 #eBook note available\n",
    "\n",
    "#Quantum Computing Explained - David McMohan\n",
    "sc_price_OE1 = 0.00 #source: www.academia.edu"
   ]
  },
  {
   "cell_type": "code",
   "execution_count": 19,
   "id": "d5d2f951",
   "metadata": {},
   "outputs": [
    {
     "data": {
      "image/png": "[encoded data removed]",
      "text/plain": [
       "<Figure size 720x360 with 1 Axes>"
      ]
     },
     "metadata": {
      "needs_background": "light"
     },
     "output_type": "display_data"
    }
   ],
   "source": [
    "data = {'CC':sc_price_CC,\n",
    "        'IFS':sc_price_IFS,\n",
    "        'VLSI':sc_price_VLSI,\n",
    "        'DE1':sc_price_DE1,\n",
    "        'DE2':sc_price_DE2,\n",
    "        'DE3':sc_price_DE3,\n",
    "        'OE1':sc_price_OE1}\n",
    "\n",
    "subjects1 = list(data.keys())\n",
    "values1 = list(data.values())\n",
    "  \n",
    "fig = plt.figure(figsize = (10, 5))\n",
    " \n",
    "# creating the bar plot\n",
    "plt.bar(subjects1, values1, color ='blue',\n",
    "        width = 0.4)\n",
    " \n",
    "plt.xlabel(\"Subject Material Names\")\n",
    "plt.ylabel(\"Softcopy Price (in Rs.)\")\n",
    "plt.title(\"Market price of materials (Softcopy)\")\n",
    "plt.show()"
   ]
  },
  {
   "cell_type": "code",
   "execution_count": 20,
   "id": "88f6e529",
   "metadata": {},
   "outputs": [],
   "source": [
    "#counting the preferences for each subject\n",
    "no_sc_CC = (df['pref_CC'] == 0).sum()\n",
    "no_hc_CC = (df['pref_CC'] == 1).sum()\n",
    "\n",
    "no_sc_IFS = (df['pref_IFS'] == 0).sum()\n",
    "no_hc_IFS = (df['pref_IFS'] == 1).sum()\n",
    "\n",
    "no_sc_VLSI = (df['pref_VLSI'] == 0).sum()\n",
    "no_hc_VLSI = (df['pref_VLSI'] == 1).sum()\n",
    "\n",
    "no_sc_DE1 = (df['pref_DE1'] == 0).sum()\n",
    "no_hc_DE1 = (df['pref_DE1'] == 1).sum()\n",
    "\n",
    "no_sc_DE2 = (df['pref_DE2'] == 0).sum()\n",
    "no_hc_DE2 = (df['pref_DE2'] == 1).sum()\n",
    "\n",
    "no_sc_DE3 = (df['pref_DE3'] == 0).sum()\n",
    "no_hc_DE3 = (df['pref_DE3'] == 1).sum()\n",
    "\n",
    "no_sc_OE1 = (df['pref_OE1'] == 0).sum()\n",
    "no_hc_OE1 = (df['pref_OE1'] == 1).sum()"
   ]
  },
  {
   "cell_type": "code",
   "execution_count": 21,
   "id": "87cafd5f",
   "metadata": {},
   "outputs": [
    {
     "data": {
      "image/png": "[encoded data removed]",
      "text/plain": [
       "<Figure size 432x288 with 1 Axes>"
      ]
     },
     "metadata": {
      "needs_background": "light"
     },
     "output_type": "display_data"
    }
   ],
   "source": [
    "X = ['CC','IFS','VLSI','DE1','DE2','DE3','OE1']\n",
    "Softcopy = [no_sc_CC,no_sc_IFS,no_sc_VLSI,no_sc_DE1,no_sc_DE2,no_sc_DE3,no_sc_OE1]\n",
    "Hardcopy = [no_hc_CC,no_hc_IFS,no_hc_VLSI,no_hc_DE1,no_hc_DE2,no_hc_DE3,no_hc_OE1]\n",
    "  \n",
    "X_axis = np.arange(len(X))\n",
    "  \n",
    "plt.bar(X_axis - 0.2, Softcopy, 0.4, label = 'Softcopy')\n",
    "plt.bar(X_axis + 0.2, Hardcopy, 0.4, label = 'Hardcopy')\n",
    "  \n",
    "plt.xticks(X_axis, X)\n",
    "plt.xlabel(\"Engineering (6th sem) study materials\")\n",
    "plt.ylabel(\"Quantity of materials\")\n",
    "plt.title(\"Subject wise material preferences (Hardcopy/Softcopy)\")\n",
    "plt.legend()\n",
    "plt.show()"
   ]
  },
  {
   "cell_type": "code",
   "execution_count": 22,
   "id": "5668f616",
   "metadata": {},
   "outputs": [],
   "source": [
    "#calculation of savings\n",
    "\n",
    "saving_CC = (no_hc_CC * hc_price_CC) - (no_sc_CC * sc_price_CC)\n",
    "\n",
    "saving_IFS = (no_hc_IFS * hc_price_IFS) - (no_sc_IFS * sc_price_IFS)\n",
    "\n",
    "saving_VLSI = (no_hc_VLSI * hc_price_VLSI) - (no_sc_VLSI * sc_price_VLSI)\n",
    "\n",
    "saving_DE1 = (no_hc_DE1 * hc_price_DE1) - (no_sc_DE1 * sc_price_DE1)\n",
    "\n",
    "saving_DE2 = (no_hc_DE2 * hc_price_DE2) - (no_sc_DE2 * sc_price_DE2)\n",
    "\n",
    "saving_DE3 = (no_hc_DE3 * hc_price_DE3) - (no_sc_DE3 * sc_price_DE3)\n",
    "\n",
    "saving_OE1 = (no_hc_OE1 * hc_price_OE1) - (no_sc_OE1 * sc_price_OE1)"
   ]
  },
  {
   "cell_type": "code",
   "execution_count": 23,
   "id": "0734d267",
   "metadata": {},
   "outputs": [
    {
     "name": "stdout",
     "output_type": "stream",
     "text": [
      "Savings in Cellular Communication: Rs. 122692\n",
      "\n",
      "Savings in Inferential Statistics: Rs. 113825\n",
      "\n",
      "Savings in VLSI: Rs. 122218\n",
      "\n",
      "Savings in Department Elective 1: Rs. 56090\n",
      "\n",
      "Savings in Department Elective 2: Rs. 22770\n",
      "\n",
      "Savings in Department Elective 3: Rs. 28044\n",
      "\n",
      "Savings in Open Elective 1: Rs. 936000\n"
     ]
    }
   ],
   "source": [
    "print(\"Savings in Cellular Communication: Rs.\", round(saving_CC))\n",
    "print(\"\\nSavings in Inferential Statistics: Rs.\", round(saving_IFS))\n",
    "print(\"\\nSavings in VLSI: Rs.\", round(saving_VLSI))\n",
    "print(\"\\nSavings in Department Elective 1: Rs.\", round(saving_DE1))\n",
    "print(\"\\nSavings in Department Elective 2: Rs.\", round(saving_DE2))\n",
    "print(\"\\nSavings in Department Elective 3: Rs.\", round(saving_DE3))\n",
    "print(\"\\nSavings in Open Elective 1: Rs.\", round(saving_OE1))"
   ]
  },
  {
   "cell_type": "code",
   "execution_count": 24,
   "id": "a7440440",
   "metadata": {},
   "outputs": [
    {
     "name": "stdout",
     "output_type": "stream",
     "text": [
      "Percentage savings (Cellular Communication): 100.0 %\n",
      "\n",
      "Percentage savings (Inferential Statistics): 100.0 %\n",
      "\n",
      "Percentage savings (VLSI): 81.20905261199485 %\n",
      "\n",
      "Percentage savings (Department Elective 1): 53.74149659863946 %\n",
      "\n",
      "Percentage savings (Department Elective 2): 33.093525179856115 %\n",
      "\n",
      "Percentage savings (Department Elective 3): 28.14814814814815 %\n",
      "\n",
      "Percentage savings (Open Elective 1): 100.0 %\n"
     ]
    }
   ],
   "source": [
    "#percentage savings per subject\n",
    "print(\"Percentage savings (Cellular Communication):\", (saving_CC/(no_hc_CC * hc_price_CC))*100,\"%\")\n",
    "print(\"\\nPercentage savings (Inferential Statistics):\", (saving_IFS/(no_hc_IFS * hc_price_IFS))*100,\"%\")\n",
    "print(\"\\nPercentage savings (VLSI):\", (saving_VLSI/(no_hc_VLSI * hc_price_VLSI))*100,\"%\")\n",
    "print(\"\\nPercentage savings (Department Elective 1):\", (saving_DE1/(no_hc_DE1 * hc_price_DE1))*100,\"%\")\n",
    "print(\"\\nPercentage savings (Department Elective 2):\", (saving_DE2/(no_hc_DE2 * hc_price_DE2))*100,\"%\")\n",
    "print(\"\\nPercentage savings (Department Elective 3):\", (saving_DE3/(no_hc_DE3 * hc_price_DE3))*100,\"%\")\n",
    "print(\"\\nPercentage savings (Open Elective 1):\", (saving_OE1/(no_hc_OE1 * hc_price_OE1))*100,\"%\")"
   ]
  },
  {
   "cell_type": "code",
   "execution_count": 25,
   "id": "656cebfe",
   "metadata": {},
   "outputs": [
    {
     "data": {
      "image/png": "[encoded data removed]",
      "text/plain": [
       "<Figure size 720x360 with 1 Axes>"
      ]
     },
     "metadata": {
      "needs_background": "light"
     },
     "output_type": "display_data"
    }
   ],
   "source": [
    "data = {'CC':(saving_CC/(no_hc_CC * hc_price_CC))*100,\n",
    "        'IFS':(saving_IFS/(no_hc_IFS * hc_price_IFS))*100,\n",
    "        'VLSI':(saving_VLSI/(no_hc_VLSI * hc_price_VLSI))*100,\n",
    "        'DE1':(saving_DE1/(no_hc_DE1 * hc_price_DE1))*100,\n",
    "        'DE2':(saving_DE2/(no_hc_DE2 * hc_price_DE2))*100,\n",
    "        'DE3':(saving_DE3/(no_hc_DE3 * hc_price_DE3))*100,\n",
    "        'OE1':(saving_OE1/(no_hc_OE1 * hc_price_OE1))*100}\n",
    "\n",
    "subjects2 = list(data.keys())\n",
    "values2 = list(data.values())\n",
    "  \n",
    "fig = plt.figure(figsize = (10, 5))\n",
    " \n",
    "# creating the bar plot\n",
    "plt.bar(subjects2, values2, color ='maroon',\n",
    "        width = 0.4)\n",
    " \n",
    "plt.xlabel(\"Subject Names\")\n",
    "plt.ylabel(\"Percentage Savings (in Rs.)\")\n",
    "plt.title(\"Subject wise %age savings in study materials\")\n",
    "plt.show()"
   ]
  },
  {
   "cell_type": "code",
   "execution_count": 26,
   "id": "ace6f883",
   "metadata": {},
   "outputs": [
    {
     "name": "stdout",
     "output_type": "stream",
     "text": [
      "Total savings = 70.8846032198055 % = 71 %\n"
     ]
    }
   ],
   "source": [
    "#computing total percentage savings\n",
    "ultimate_savings_per = (((saving_CC/(no_hc_CC * hc_price_CC))*100)+\n",
    "                    ((saving_IFS/(no_hc_IFS * hc_price_IFS))*100)+\n",
    "                    ((saving_VLSI/(no_hc_VLSI * hc_price_VLSI))*100)+\n",
    "                    ((saving_DE1/(no_hc_DE1 * hc_price_DE1))*100)+\n",
    "                    ((saving_DE2/(no_hc_DE2 * hc_price_DE2))*100)+\n",
    "                    ((saving_DE3/(no_hc_DE3 * hc_price_DE3))*100)+\n",
    "                    ((saving_OE1/(no_hc_OE1 * hc_price_OE1))*100))/7\n",
    "\n",
    "print(\"Total savings =\",ultimate_savings_per,\"% =\", round(ultimate_savings_per),\"%\")"
   ]
  },
  {
   "cell_type": "code",
   "execution_count": 27,
   "id": "73f561f2",
   "metadata": {},
   "outputs": [
    {
     "name": "stdout",
     "output_type": "stream",
     "text": [
      "Total estimated savings: Rs. 1401639\n"
     ]
    }
   ],
   "source": [
    "#total savings for 6th semester\n",
    "total_savings = (saving_CC\n",
    "                +saving_IFS\n",
    "                +saving_VLSI\n",
    "                +saving_DE1\n",
    "                +saving_DE2\n",
    "                +saving_DE3\n",
    "                +saving_OE1)\n",
    "\n",
    "print(\"Total estimated savings: Rs.\", round(total_savings))"
   ]
  },
  {
   "cell_type": "code",
   "execution_count": 28,
   "id": "dee45495",
   "metadata": {},
   "outputs": [],
   "source": [
    "#computing the paper savings (in grams)\n",
    "#Source: Amazon.in\n",
    "\n",
    "#Wireless communications - Theodore S Rapport\n",
    "w_CC = 750\n",
    "\n",
    "#Probability and Statistics for Engineering and the Sciences - Jay L Devore\n",
    "w_IFS = 1540\n",
    "\n",
    "#CMOS VLSI design - Neil H. E. Weste and David Money Harris\n",
    "w_VLSI = 1290\n",
    "\n",
    "#Principles of Soft Computing - S. N. Sivanandan and S. N. Deepa\n",
    "w_DE1 = 1560\n",
    "\n",
    "#Information Theory, Coding and Cryptography - Ranjan Bose\n",
    "w_DE2 = 287\n",
    "\n",
    "#Digital Image Processing - S Jayaraman, S Esakkirajan, T Veerakumar\n",
    "w_DE3 = 1200\n",
    "\n",
    "#Quantum Computing Explained - David McMohan\n",
    "w_OE1 = 624"
   ]
  },
  {
   "cell_type": "code",
   "execution_count": 29,
   "id": "fe2cb14e",
   "metadata": {},
   "outputs": [
    {
     "data": {
      "image/png": "[encoded data removed]",
      "text/plain": [
       "<Figure size 720x360 with 1 Axes>"
      ]
     },
     "metadata": {
      "needs_background": "light"
     },
     "output_type": "display_data"
    }
   ],
   "source": [
    "data = {'CC':w_CC/1000,\n",
    "        'IFS':w_IFS/1000,\n",
    "        'VLSI':w_VLSI/1000,\n",
    "        'DE1':w_DE1/1000,\n",
    "        'DE2':w_DE2/1000,\n",
    "        'DE3':w_DE3/1000,\n",
    "        'OE1':w_OE1/1000}\n",
    "\n",
    "book = list(data.keys())\n",
    "weight = list(data.values())\n",
    "  \n",
    "fig = plt.figure(figsize = (10, 5))\n",
    " \n",
    "# creating the bar plot\n",
    "plt.bar(book, weight, color ='blue',\n",
    "        width = 0.4)\n",
    " \n",
    "plt.xlabel(\"Subject Material Names\")\n",
    "plt.ylabel(\"Weight (in kg)\")\n",
    "plt.title(\"Subject material names as per their respective weights\")\n",
    "plt.show()"
   ]
  },
  {
   "cell_type": "code",
   "execution_count": 30,
   "id": "8b7ed4c4",
   "metadata": {},
   "outputs": [
    {
     "name": "stdout",
     "output_type": "stream",
     "text": [
      "Total weight = 1082829 gms = 1082.829 Kg = 1.082829 Tonnes\n"
     ]
    }
   ],
   "source": [
    "#computing the total weight of papers (in Online mode)\n",
    "\n",
    "w_CC_total = w_CC*no_hc_CC\n",
    "\n",
    "w_IFS_total = w_IFS*no_hc_IFS\n",
    "\n",
    "w_VLSI_total = w_VLSI*no_hc_VLSI\n",
    "\n",
    "w_DE1_total = w_DE1*no_hc_DE1\n",
    "\n",
    "w_DE2_total = w_DE2*no_hc_DE2\n",
    "\n",
    "w_DE3_total = w_DE3*no_hc_DE3\n",
    "\n",
    "w_OE1_total = w_OE1*no_hc_OE1\n",
    "\n",
    "w_total = w_CC_total+w_IFS_total+w_VLSI_total+w_DE1_total+w_DE2_total+w_DE3_total+w_OE1_total\n",
    "\n",
    "print(\"Total weight =\",w_total,\"gms =\",w_total/1000,\"Kg =\",(w_total/1000)/1000,\"Tonnes\")"
   ]
  },
  {
   "cell_type": "code",
   "execution_count": 31,
   "id": "61a857db",
   "metadata": {},
   "outputs": [
    {
     "data": {
      "image/png": "[encoded data removed]",
      "text/plain": [
       "<Figure size 720x360 with 1 Axes>"
      ]
     },
     "metadata": {
      "needs_background": "light"
     },
     "output_type": "display_data"
    }
   ],
   "source": [
    "data = {'CC':w_CC_total/1000,\n",
    "        'IFS':w_IFS_total/1000,\n",
    "        'VLSI':w_VLSI_total/1000,\n",
    "        'DE1':w_DE1_total/1000,\n",
    "        'DE2':w_DE2_total/1000,\n",
    "        'DE3':w_DE3_total/1000,\n",
    "        'OE1':w_OE1_total/1000}\n",
    "\n",
    "book_t = list(data.keys())\n",
    "weight_t = list(data.values())\n",
    "  \n",
    "fig = plt.figure(figsize = (10, 5))\n",
    " \n",
    "# creating the bar plot\n",
    "plt.bar(book_t, weight_t, color ='magenta',\n",
    "        width = 0.4)\n",
    " \n",
    "plt.xlabel(\"Subject Material Names\")\n",
    "plt.ylabel(\"Weight (in kg)\")\n",
    "plt.title(\"Total subject wise weights of all the purchased materials\")\n",
    "plt.show()"
   ]
  },
  {
   "cell_type": "code",
   "execution_count": 32,
   "id": "1b1947b2",
   "metadata": {},
   "outputs": [
    {
     "name": "stdout",
     "output_type": "stream",
     "text": [
      "total courier charges (Online est.) = 102868.75499999999 = 102869 Rupees\n"
     ]
    }
   ],
   "source": [
    "#courier delivery charges (in Rupees) per kg in India (Source: www.DTDC.in)\n",
    "courier_charges = 95\n",
    "\n",
    "total_charge = courier_charges*(w_total/1000)\n",
    "\n",
    "print(\"total courier charges (Online est.) =\",total_charge,\"=\",round(total_charge),\"Rupees\")"
   ]
  },
  {
   "cell_type": "code",
   "execution_count": 33,
   "id": "107b4543",
   "metadata": {},
   "outputs": [
    {
     "name": "stdout",
     "output_type": "stream",
     "text": [
      "Total weight = 1991378 gms = 1991.378 Kg = 1.9913779999999999 Tonnes\n"
     ]
    }
   ],
   "source": [
    "#computing the total weight of papers (in conventional Offline mode) assuming pre-Corona times.\n",
    "\n",
    "w_CC_total1 = w_CC*no_hc_CC+w_CC*no_sc_CC\n",
    "\n",
    "w_IFS_total1 = w_IFS*no_hc_IFS+w_IFS*no_sc_IFS\n",
    "\n",
    "w_VLSI_total1 = w_VLSI*no_hc_VLSI+w_VLSI*no_hc_VLSI\n",
    "\n",
    "w_DE1_total1 = w_DE1*no_hc_DE1+w_DE1*no_hc_DE1\n",
    "\n",
    "w_DE2_total1 = w_DE2*no_hc_DE2+w_DE2*no_hc_DE2\n",
    "\n",
    "w_DE3_total1 = w_DE3*no_hc_DE3+w_DE3*no_hc_DE3\n",
    "\n",
    "w_OE1_total1 = w_OE1*no_hc_OE1+w_OE1*no_hc_OE1\n",
    "\n",
    "w_total1 = w_CC_total1+w_IFS_total1+w_VLSI_total1+w_DE1_total1+w_DE2_total1+w_DE3_total1+w_OE1_total1\n",
    "\n",
    "print(\"Total weight =\",w_total1,\"gms =\",w_total1/1000,\"Kg =\",(w_total1/1000)/1000,\"Tonnes\")"
   ]
  },
  {
   "cell_type": "code",
   "execution_count": 34,
   "id": "503302c7",
   "metadata": {},
   "outputs": [
    {
     "data": {
      "image/png": "[encoded data removed]",
      "text/plain": [
       "<Figure size 720x360 with 1 Axes>"
      ]
     },
     "metadata": {
      "needs_background": "light"
     },
     "output_type": "display_data"
    }
   ],
   "source": [
    "data = {'CC':w_CC_total1/1000,\n",
    "        'IFS':w_IFS_total1/1000,\n",
    "        'VLSI':w_VLSI_total1/1000,\n",
    "        'DE1':w_DE1_total1/1000,\n",
    "        'DE2':w_DE2_total1/1000,\n",
    "        'DE3':w_DE3_total1/1000,\n",
    "        'OE1':w_OE1_total1/1000}\n",
    "\n",
    "book_t1 = list(data.keys())\n",
    "weight_t1 = list(data.values())\n",
    "  \n",
    "fig = plt.figure(figsize = (10, 5))\n",
    " \n",
    "# creating the bar plot\n",
    "plt.bar(book_t1, weight_t1, color ='purple',\n",
    "        width = 0.4)\n",
    " \n",
    "plt.xlabel(\"Subject Material Names\")\n",
    "plt.ylabel(\"Weight (in kg)\")\n",
    "plt.title(\"Total subject wise weights (Hardcopy and Softcopy combined)\")\n",
    "plt.show()"
   ]
  },
  {
   "cell_type": "code",
   "execution_count": 35,
   "id": "568b11d1",
   "metadata": {},
   "outputs": [
    {
     "name": "stdout",
     "output_type": "stream",
     "text": [
      "total courier charges (Offline est.) = 189180.91 = 189181 Rupees\n"
     ]
    }
   ],
   "source": [
    "#courier delivery charges (in Rupees) per kg in India (Source: www.DTDC.in)\n",
    "\n",
    "total_charge1 = courier_charges*(w_total1/1000)\n",
    "\n",
    "print(\"total courier charges (Offline est.) =\",total_charge1,\"=\",round(total_charge1),\"Rupees\")"
   ]
  },
  {
   "cell_type": "code",
   "execution_count": 36,
   "id": "eda6a7d2",
   "metadata": {},
   "outputs": [
    {
     "name": "stdout",
     "output_type": "stream",
     "text": [
      "Rs. 86312.15500000001 /-\n"
     ]
    }
   ],
   "source": [
    "#total savings in courier delivery charges\n",
    "print(\"Rs.\",total_charge1-total_charge,\"/-\")"
   ]
  },
  {
   "cell_type": "code",
   "execution_count": 37,
   "id": "d22c847d",
   "metadata": {},
   "outputs": [
    {
     "name": "stdout",
     "output_type": "stream",
     "text": [
      "Papers saved: 0.9085489999999999 Tonnes\n"
     ]
    }
   ],
   "source": [
    "#total paper savings\n",
    "print(\"Papers saved:\",((w_total1-w_total)/1000)/1000,\"Tonnes\")"
   ]
  },
  {
   "cell_type": "code",
   "execution_count": 38,
   "id": "c60548ef",
   "metadata": {},
   "outputs": [
    {
     "data": {
      "image/png": "[encoded data removed]",
      "text/plain": [
       "<Figure size 432x288 with 1 Axes>"
      ]
     },
     "metadata": {},
     "output_type": "display_data"
    }
   ],
   "source": [
    "y = np.array([total_charge1, total_charge])\n",
    "# or y = np.array([w_total1, w_total])\n",
    "mylabels = [\"Pre-Covid\", \"Post-Covid\"]\n",
    "\n",
    "plt.pie(y, labels = mylabels, startangle = 90)\n",
    "plt.show() "
   ]
  },
  {
   "cell_type": "markdown",
   "id": "b5a73005",
   "metadata": {},
   "source": [
    "# Scatter plot for subjectwise student data"
   ]
  },
  {
   "cell_type": "code",
   "execution_count": 39,
   "id": "4ee67d7c",
   "metadata": {},
   "outputs": [
    {
     "data": {
      "text/plain": [
       "Text(0, 0.5, '0: Softcopy, 1: Hardcopy')"
      ]
     },
     "execution_count": 39,
     "metadata": {},
     "output_type": "execute_result"
    },
    {
     "data": {
      "image/png": "[encoded data removed]",
      "text/plain": [
       "<Figure size 432x288 with 1 Axes>"
      ]
     },
     "metadata": {
      "needs_background": "light"
     },
     "output_type": "display_data"
    }
   ],
   "source": [
    "plt.scatter(df.sdur_CC, df.pref_CC, marker = '+', color = 'red')\n",
    "plt.title('Cellular Communication')\n",
    "plt.xlabel('Study Duration (monthly)')\n",
    "plt.ylabel('0: Softcopy, 1: Hardcopy')"
   ]
  },
  {
   "cell_type": "code",
   "execution_count": 40,
   "id": "19de7b04",
   "metadata": {},
   "outputs": [
    {
     "data": {
      "text/plain": [
       "Text(0, 0.5, '0: Softcopy, 1: Hardcopy')"
      ]
     },
     "execution_count": 40,
     "metadata": {},
     "output_type": "execute_result"
    },
    {
     "data": {
      "image/png": "[encoded data removed]",
      "text/plain": [
       "<Figure size 432x288 with 1 Axes>"
      ]
     },
     "metadata": {
      "needs_background": "light"
     },
     "output_type": "display_data"
    }
   ],
   "source": [
    "plt.scatter(df.sdur_IFS, df.pref_IFS, marker = '+', color = 'green')\n",
    "plt.title('Inferential Statistics')\n",
    "plt.xlabel('Study Duration (monthly)')\n",
    "plt.ylabel('0: Softcopy, 1: Hardcopy')"
   ]
  },
  {
   "cell_type": "code",
   "execution_count": 41,
   "id": "f8f60917",
   "metadata": {},
   "outputs": [
    {
     "data": {
      "text/plain": [
       "Text(0, 0.5, '0: Softcopy, 1: Hardcopy')"
      ]
     },
     "execution_count": 41,
     "metadata": {},
     "output_type": "execute_result"
    },
    {
     "data": {
      "image/png": "[encoded data removed]",
      "text/plain": [
       "<Figure size 432x288 with 1 Axes>"
      ]
     },
     "metadata": {
      "needs_background": "light"
     },
     "output_type": "display_data"
    }
   ],
   "source": [
    "plt.scatter(df.sdur_VLSI, df.pref_VLSI, marker = '+', color = 'blue')\n",
    "plt.title('VLSI Technology')\n",
    "plt.xlabel('Study Duration (monthly)')\n",
    "plt.ylabel('0: Softcopy, 1: Hardcopy')"
   ]
  },
  {
   "cell_type": "code",
   "execution_count": 42,
   "id": "fd8017c3",
   "metadata": {},
   "outputs": [
    {
     "data": {
      "text/plain": [
       "Text(0, 0.5, '0: Softcopy, 1: Hardcopy')"
      ]
     },
     "execution_count": 42,
     "metadata": {},
     "output_type": "execute_result"
    },
    {
     "data": {
      "image/png": "[encoded data removed]",
      "text/plain": [
       "<Figure size 432x288 with 1 Axes>"
      ]
     },
     "metadata": {
      "needs_background": "light"
     },
     "output_type": "display_data"
    }
   ],
   "source": [
    "plt.scatter(df.sdur_DE1, df.pref_DE1, marker = '+', color = 'brown')\n",
    "plt.title('Department Elective 1 (Neural Networks & ML)')\n",
    "plt.xlabel('Study Duration (monthly)')\n",
    "plt.ylabel('0: Softcopy, 1: Hardcopy')"
   ]
  },
  {
   "cell_type": "code",
   "execution_count": 43,
   "id": "831a1cd8",
   "metadata": {},
   "outputs": [
    {
     "data": {
      "text/plain": [
       "Text(0, 0.5, '0: Softcopy, 1: Hardcopy')"
      ]
     },
     "execution_count": 43,
     "metadata": {},
     "output_type": "execute_result"
    },
    {
     "data": {
      "image/png": "[encoded data removed]",
      "text/plain": [
       "<Figure size 432x288 with 1 Axes>"
      ]
     },
     "metadata": {
      "needs_background": "light"
     },
     "output_type": "display_data"
    }
   ],
   "source": [
    "plt.scatter(df.sdur_DE2, df.pref_DE2, marker = '+', color = 'black')\n",
    "plt.title('Department Elective 2 (Image Processing)')\n",
    "plt.xlabel('Study Duration (monthly)')\n",
    "plt.ylabel('0: Softcopy, 1: Hardcopy')"
   ]
  },
  {
   "cell_type": "code",
   "execution_count": 44,
   "id": "b4595716",
   "metadata": {},
   "outputs": [
    {
     "data": {
      "text/plain": [
       "Text(0, 0.5, '0: Softcopy, 1: Hardcopy')"
      ]
     },
     "execution_count": 44,
     "metadata": {},
     "output_type": "execute_result"
    },
    {
     "data": {
      "image/png": "[encoded data removed]",
      "text/plain": [
       "<Figure size 432x288 with 1 Axes>"
      ]
     },
     "metadata": {
      "needs_background": "light"
     },
     "output_type": "display_data"
    }
   ],
   "source": [
    "plt.scatter(df.sdur_DE3, df.pref_DE3, marker = '+', color = 'magenta')\n",
    "plt.title('Department Elective 3 (Information Theory & Coding)')\n",
    "plt.xlabel('Study Duration (monthly)')\n",
    "plt.ylabel('0: Softcopy, 1: Hardcopy')"
   ]
  },
  {
   "cell_type": "code",
   "execution_count": 45,
   "id": "52d07c1e",
   "metadata": {},
   "outputs": [
    {
     "data": {
      "text/plain": [
       "Text(0, 0.5, '0: Softcopy, 1: Hardcopy')"
      ]
     },
     "execution_count": 45,
     "metadata": {},
     "output_type": "execute_result"
    },
    {
     "data": {
      "image/png": "[encoded data removed]",
      "text/plain": [
       "<Figure size 432x288 with 1 Axes>"
      ]
     },
     "metadata": {
      "needs_background": "light"
     },
     "output_type": "display_data"
    }
   ],
   "source": [
    "plt.scatter(df.sdur_OE1, df.pref_OE1, marker = '+', color = 'purple')\n",
    "plt.title('Open Elective 1 (Quantum Computation)')\n",
    "plt.xlabel('Study Duration (monthly)')\n",
    "plt.ylabel('0: Softcopy, 1: Hardcopy')"
   ]
  },
  {
   "cell_type": "code",
   "execution_count": 46,
   "id": "a700578d",
   "metadata": {},
   "outputs": [
    {
     "data": {
      "text/plain": [
       "(232, 16)"
      ]
     },
     "execution_count": 46,
     "metadata": {},
     "output_type": "execute_result"
    }
   ],
   "source": [
    "df.shape"
   ]
  },
  {
   "cell_type": "markdown",
   "id": "01ed0ea8",
   "metadata": {},
   "source": [
    "# Applying machine learning algorithm to the data"
   ]
  },
  {
   "cell_type": "code",
   "execution_count": 47,
   "id": "2e36a7e7",
   "metadata": {},
   "outputs": [],
   "source": [
    "from sklearn.model_selection import train_test_split"
   ]
  },
  {
   "cell_type": "code",
   "execution_count": 48,
   "id": "84764c39",
   "metadata": {},
   "outputs": [],
   "source": [
    "#splitting the dataset into train and test for Cellular Communication\n",
    "X1_train, X1_test, y1_train, y1_test = train_test_split(df[['sdur_CC']], df.pref_CC, test_size = 0.2)"
   ]
  },
  {
   "cell_type": "code",
   "execution_count": 49,
   "id": "ed337d17",
   "metadata": {},
   "outputs": [],
   "source": [
    "from sklearn.linear_model import LogisticRegression"
   ]
  },
  {
   "cell_type": "code",
   "execution_count": 50,
   "id": "2dae0d13",
   "metadata": {},
   "outputs": [],
   "source": [
    "model1 = LogisticRegression()"
   ]
  },
  {
   "cell_type": "code",
   "execution_count": 51,
   "id": "252a18a1",
   "metadata": {},
   "outputs": [
    {
     "data": {
      "text/plain": [
       "LogisticRegression()"
      ]
     },
     "execution_count": 51,
     "metadata": {},
     "output_type": "execute_result"
    }
   ],
   "source": [
    "#training our ML model\n",
    "model1.fit(X1_train, y1_train)"
   ]
  },
  {
   "cell_type": "code",
   "execution_count": 52,
   "id": "833fcdb5",
   "metadata": {},
   "outputs": [
    {
     "data": {
      "text/plain": [
       "array([1, 1, 1, 1, 1, 1, 1, 1, 1, 1, 1, 1, 1, 1, 1, 1, 1, 1, 1, 1, 1, 1,\n",
       "       1, 1, 1, 1, 1, 1, 1, 1, 1, 1, 1, 1, 1, 1, 1, 1, 1, 1, 1, 1, 1, 1,\n",
       "       1, 1, 1], dtype=int64)"
      ]
     },
     "execution_count": 52,
     "metadata": {},
     "output_type": "execute_result"
    }
   ],
   "source": [
    "model1.predict(X1_test)"
   ]
  },
  {
   "cell_type": "code",
   "execution_count": 53,
   "id": "d836c366",
   "metadata": {},
   "outputs": [
    {
     "name": "stdout",
     "output_type": "stream",
     "text": [
      "Score for Cellular Communication: 63.829787234042556 %\n"
     ]
    }
   ],
   "source": [
    "print(\"Score for Cellular Communication:\", model1.score(X1_test, y1_test)*100,\"%\")"
   ]
  },
  {
   "cell_type": "code",
   "execution_count": 54,
   "id": "b0e9e706",
   "metadata": {},
   "outputs": [],
   "source": [
    "#splitting the dataset into train and test for Inferential Statistics\n",
    "X2_train, X2_test, y2_train, y2_test = train_test_split(df[['sdur_IFS']], df.pref_IFS, test_size = 0.2)"
   ]
  },
  {
   "cell_type": "code",
   "execution_count": 55,
   "id": "a53f6607",
   "metadata": {},
   "outputs": [],
   "source": [
    "model2 = LogisticRegression()"
   ]
  },
  {
   "cell_type": "code",
   "execution_count": 56,
   "id": "45adf7c8",
   "metadata": {},
   "outputs": [
    {
     "data": {
      "text/plain": [
       "LogisticRegression()"
      ]
     },
     "execution_count": 56,
     "metadata": {},
     "output_type": "execute_result"
    }
   ],
   "source": [
    "#training our ML model\n",
    "model2.fit(X2_train, y2_train)"
   ]
  },
  {
   "cell_type": "code",
   "execution_count": 57,
   "id": "de8dc8a9",
   "metadata": {},
   "outputs": [
    {
     "data": {
      "text/plain": [
       "array([1, 1, 1, 1, 1, 1, 1, 1, 1, 1, 1, 1, 1, 1, 1, 1, 1, 1, 1, 1, 1, 1,\n",
       "       1, 1, 1, 1, 1, 1, 1, 1, 1, 1, 1, 1, 1, 1, 1, 1, 1, 1, 1, 1, 1, 1,\n",
       "       1, 1, 1], dtype=int64)"
      ]
     },
     "execution_count": 57,
     "metadata": {},
     "output_type": "execute_result"
    }
   ],
   "source": [
    "model2.predict(X2_test)"
   ]
  },
  {
   "cell_type": "code",
   "execution_count": 58,
   "id": "c5f7b44e",
   "metadata": {},
   "outputs": [
    {
     "name": "stdout",
     "output_type": "stream",
     "text": [
      "Score for Inferential Statistics: 63.829787234042556 %\n"
     ]
    }
   ],
   "source": [
    "print(\"Score for Inferential Statistics:\", model2.score(X2_test, y2_test)*100,\"%\")"
   ]
  },
  {
   "cell_type": "code",
   "execution_count": 59,
   "id": "49c1e508",
   "metadata": {},
   "outputs": [],
   "source": [
    "#splitting the dataset into train and test for VLSI\n",
    "X3_train, X3_test, y3_train, y3_test = train_test_split(df[['sdur_VLSI']], df.pref_VLSI, test_size = 0.2)"
   ]
  },
  {
   "cell_type": "code",
   "execution_count": 60,
   "id": "038ba5ee",
   "metadata": {},
   "outputs": [],
   "source": [
    "model3 = LogisticRegression()"
   ]
  },
  {
   "cell_type": "code",
   "execution_count": 61,
   "id": "b2ce1113",
   "metadata": {},
   "outputs": [
    {
     "data": {
      "text/plain": [
       "LogisticRegression()"
      ]
     },
     "execution_count": 61,
     "metadata": {},
     "output_type": "execute_result"
    }
   ],
   "source": [
    "#training our ML model\n",
    "model3.fit(X3_train, y3_train)"
   ]
  },
  {
   "cell_type": "code",
   "execution_count": 62,
   "id": "a4e089b8",
   "metadata": {},
   "outputs": [
    {
     "data": {
      "text/plain": [
       "array([1, 1, 1, 1, 1, 1, 1, 1, 1, 1, 1, 1, 1, 1, 1, 1, 1, 1, 1, 1, 1, 1,\n",
       "       1, 1, 1, 1, 1, 1, 1, 1, 1, 1, 1, 1, 1, 1, 1, 1, 1, 1, 1, 1, 1, 1,\n",
       "       1, 1, 1], dtype=int64)"
      ]
     },
     "execution_count": 62,
     "metadata": {},
     "output_type": "execute_result"
    }
   ],
   "source": [
    "model3.predict(X3_test)"
   ]
  },
  {
   "cell_type": "code",
   "execution_count": 63,
   "id": "05f62a63",
   "metadata": {},
   "outputs": [
    {
     "name": "stdout",
     "output_type": "stream",
     "text": [
      "Score for VLSI: 80.85106382978722 %\n"
     ]
    }
   ],
   "source": [
    "print(\"Score for VLSI:\", model3.score(X3_test, y3_test)*100,\"%\")"
   ]
  },
  {
   "cell_type": "code",
   "execution_count": 64,
   "id": "2b6ccaff",
   "metadata": {},
   "outputs": [],
   "source": [
    "#splitting the dataset into train and test for DE1\n",
    "X4_train, X4_test, y4_train, y4_test = train_test_split(df[['sdur_DE1']], df.pref_DE1, test_size = 0.2)"
   ]
  },
  {
   "cell_type": "code",
   "execution_count": 65,
   "id": "05519a44",
   "metadata": {},
   "outputs": [],
   "source": [
    "model4 = LogisticRegression()"
   ]
  },
  {
   "cell_type": "code",
   "execution_count": 66,
   "id": "ca0ae706",
   "metadata": {},
   "outputs": [
    {
     "data": {
      "text/plain": [
       "LogisticRegression()"
      ]
     },
     "execution_count": 66,
     "metadata": {},
     "output_type": "execute_result"
    }
   ],
   "source": [
    "#training our ML model\n",
    "model4.fit(X4_train, y4_train)"
   ]
  },
  {
   "cell_type": "code",
   "execution_count": 67,
   "id": "94bb7819",
   "metadata": {},
   "outputs": [
    {
     "data": {
      "text/plain": [
       "array([1, 1, 1, 1, 1, 1, 1, 1, 1, 1, 1, 1, 1, 1, 1, 1, 1, 1, 1, 1, 1, 1,\n",
       "       1, 1, 1, 1, 1, 1, 1, 1, 1, 1, 1, 1, 1, 1, 1, 1, 1, 1, 1, 1, 1, 1,\n",
       "       1, 1, 1], dtype=int64)"
      ]
     },
     "execution_count": 67,
     "metadata": {},
     "output_type": "execute_result"
    }
   ],
   "source": [
    "model4.predict(X4_test)"
   ]
  },
  {
   "cell_type": "code",
   "execution_count": 68,
   "id": "c19c1b2a",
   "metadata": {},
   "outputs": [
    {
     "name": "stdout",
     "output_type": "stream",
     "text": [
      "Score for DE1: 61.702127659574465 %\n"
     ]
    }
   ],
   "source": [
    "print(\"Score for DE1:\", model4.score(X4_test, y4_test)*100,\"%\")"
   ]
  },
  {
   "cell_type": "code",
   "execution_count": 69,
   "id": "88668647",
   "metadata": {},
   "outputs": [],
   "source": [
    "#splitting the dataset into train and test for DE2\n",
    "X5_train, X5_test, y5_train, y5_test = train_test_split(df[['sdur_DE2']], df.pref_DE2, test_size = 0.2)"
   ]
  },
  {
   "cell_type": "code",
   "execution_count": 70,
   "id": "0763f04f",
   "metadata": {},
   "outputs": [],
   "source": [
    "model5 = LogisticRegression()"
   ]
  },
  {
   "cell_type": "code",
   "execution_count": 71,
   "id": "e982af45",
   "metadata": {},
   "outputs": [
    {
     "data": {
      "text/plain": [
       "LogisticRegression()"
      ]
     },
     "execution_count": 71,
     "metadata": {},
     "output_type": "execute_result"
    }
   ],
   "source": [
    "#training our ML model\n",
    "model5.fit(X5_train, y5_train)"
   ]
  },
  {
   "cell_type": "code",
   "execution_count": 72,
   "id": "1c7e56d0",
   "metadata": {},
   "outputs": [
    {
     "data": {
      "text/plain": [
       "array([1, 1, 1, 1, 1, 1, 1, 1, 1, 1, 1, 1, 1, 1, 1, 1, 1, 1, 1, 1, 1, 1,\n",
       "       1, 1, 1, 1, 1, 1, 1, 1, 1, 1, 1, 1, 1, 1, 1, 1, 1, 1, 1, 1, 1, 1,\n",
       "       1, 1, 1], dtype=int64)"
      ]
     },
     "execution_count": 72,
     "metadata": {},
     "output_type": "execute_result"
    }
   ],
   "source": [
    "model4.predict(X5_test)"
   ]
  },
  {
   "cell_type": "code",
   "execution_count": 73,
   "id": "517915d6",
   "metadata": {},
   "outputs": [
    {
     "name": "stdout",
     "output_type": "stream",
     "text": [
      "Score for DE2: 63.829787234042556 %\n"
     ]
    }
   ],
   "source": [
    "print(\"Score for DE2:\", model5.score(X5_test, y5_test)*100,\"%\")"
   ]
  },
  {
   "cell_type": "code",
   "execution_count": 74,
   "id": "e383ed74",
   "metadata": {},
   "outputs": [],
   "source": [
    "#splitting the dataset into train and test for DE3\n",
    "X6_train, X6_test, y6_train, y6_test = train_test_split(df[['sdur_DE3']], df.pref_DE3, test_size = 0.2)"
   ]
  },
  {
   "cell_type": "code",
   "execution_count": 75,
   "id": "8dbe1d14",
   "metadata": {},
   "outputs": [],
   "source": [
    "model6 = LogisticRegression()"
   ]
  },
  {
   "cell_type": "code",
   "execution_count": 76,
   "id": "88ec7c87",
   "metadata": {},
   "outputs": [
    {
     "data": {
      "text/plain": [
       "LogisticRegression()"
      ]
     },
     "execution_count": 76,
     "metadata": {},
     "output_type": "execute_result"
    }
   ],
   "source": [
    "#training our ML model\n",
    "model6.fit(X6_train, y6_train)"
   ]
  },
  {
   "cell_type": "code",
   "execution_count": 77,
   "id": "54872995",
   "metadata": {},
   "outputs": [
    {
     "data": {
      "text/plain": [
       "array([0, 0, 1, 1, 1, 1, 1, 1, 1, 1, 1, 1, 1, 1, 1, 1, 1, 1, 1, 1, 1, 1,\n",
       "       0, 0, 1, 0, 1, 1, 1, 1, 1, 1, 1, 1, 1, 1, 1, 0, 1, 0, 1, 1, 1, 1,\n",
       "       1, 1, 0], dtype=int64)"
      ]
     },
     "execution_count": 77,
     "metadata": {},
     "output_type": "execute_result"
    }
   ],
   "source": [
    "model6.predict(X6_test)"
   ]
  },
  {
   "cell_type": "code",
   "execution_count": 78,
   "id": "1ce637cc",
   "metadata": {},
   "outputs": [
    {
     "name": "stdout",
     "output_type": "stream",
     "text": [
      "Score for DE2: 61.702127659574465 %\n"
     ]
    }
   ],
   "source": [
    "print(\"Score for DE2:\", model6.score(X6_test, y6_test)*100,\"%\")"
   ]
  },
  {
   "cell_type": "code",
   "execution_count": 79,
   "id": "3abfbcac",
   "metadata": {},
   "outputs": [],
   "source": [
    "#splitting the dataset into train and test for OE1\n",
    "X7_train, X7_test, y7_train, y7_test = train_test_split(df[['sdur_OE1']], df.pref_OE1, test_size = 0.2)"
   ]
  },
  {
   "cell_type": "code",
   "execution_count": 80,
   "id": "e781365e",
   "metadata": {},
   "outputs": [],
   "source": [
    "model7 = LogisticRegression()"
   ]
  },
  {
   "cell_type": "code",
   "execution_count": 81,
   "id": "0f1c2a7c",
   "metadata": {},
   "outputs": [
    {
     "data": {
      "text/plain": [
       "LogisticRegression()"
      ]
     },
     "execution_count": 81,
     "metadata": {},
     "output_type": "execute_result"
    }
   ],
   "source": [
    "#training our ML model\n",
    "model7.fit(X7_train, y7_train)"
   ]
  },
  {
   "cell_type": "code",
   "execution_count": 82,
   "id": "9be9aa87",
   "metadata": {},
   "outputs": [
    {
     "data": {
      "text/plain": [
       "array([1, 1, 1, 1, 1, 1, 1, 1, 1, 1, 1, 1, 1, 1, 1, 1, 1, 1, 1, 1, 1, 1,\n",
       "       1, 1, 1, 1, 1, 1, 1, 1, 1, 1, 1, 1, 1, 1, 1, 1, 1, 1, 1, 1, 1, 1,\n",
       "       1, 1, 1], dtype=int64)"
      ]
     },
     "execution_count": 82,
     "metadata": {},
     "output_type": "execute_result"
    }
   ],
   "source": [
    "model7.predict(X7_test)"
   ]
  },
  {
   "cell_type": "code",
   "execution_count": 83,
   "id": "df810319",
   "metadata": {},
   "outputs": [
    {
     "name": "stdout",
     "output_type": "stream",
     "text": [
      "Score for DE2: 59.57446808510638 %\n"
     ]
    }
   ],
   "source": [
    "print(\"Score for DE2:\", model7.score(X7_test, y7_test)*100,\"%\")"
   ]
  },
  {
   "cell_type": "code",
   "execution_count": 84,
   "id": "f6c528c9",
   "metadata": {},
   "outputs": [
    {
     "data": {
      "image/png": "[encoded data removed]",
      "text/plain": [
       "<Figure size 720x360 with 1 Axes>"
      ]
     },
     "metadata": {
      "needs_background": "light"
     },
     "output_type": "display_data"
    }
   ],
   "source": [
    "#plotting model scores\n",
    "\n",
    "data = {'CC':model1.score(X1_test, y1_test)*100,\n",
    "        'IFS':model2.score(X2_test, y2_test)*100,\n",
    "        'VLSI':model3.score(X3_test, y3_test)*100,\n",
    "        'DE1':model4.score(X4_test, y4_test)*100,\n",
    "        'DE2':model5.score(X5_test, y5_test)*100,\n",
    "        'DE3':model6.score(X6_test, y6_test)*100,\n",
    "        'OE1':model7.score(X7_test, y7_test)*100}\n",
    "\n",
    "keyy = list(data.keys())\n",
    "val = list(data.values())\n",
    "  \n",
    "fig = plt.figure(figsize = (10, 5))\n",
    " \n",
    "# creating the bar plot\n",
    "plt.bar(keyy, val, color ='blue',\n",
    "        width = 0.4)\n",
    " \n",
    "plt.xlabel(\"Subjects\")\n",
    "plt.ylabel(\"Model Score (in %)\")\n",
    "plt.title(\"Logistic Regression Model Scores (in %)\")\n",
    "plt.show()"
   ]
  }
 ],
 "metadata": {
  "kernelspec": {
   "display_name": "Python 3 (ipykernel)",
   "language": "python",
   "name": "python3"
  },
  "language_info": {
   "codemirror_mode": {
    "name": "ipython",
    "version": 3
   },
   "file_extension": ".py",
   "mimetype": "text/x-python",
   "name": "python",
   "nbconvert_exporter": "python",
   "pygments_lexer": "ipython3",
   "version": "3.9.7"
  }
 },
 "nbformat": 4,
 "nbformat_minor": 5
}
